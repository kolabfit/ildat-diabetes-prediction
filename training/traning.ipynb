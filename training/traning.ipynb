{
  "cells": [
    {
      "attachments": {},
      "cell_type": "markdown",
      "metadata": {
        "id": "hWnqfygoKqXQ"
      },
      "source": [
        "Personal Information\n",
        "\n"
      ]
    },
    {
      "attachments": {},
      "cell_type": "markdown",
      "metadata": {
        "id": "SvXi079_IUgb"
      },
      "source": [
        "# Load Library"
      ]
    },
    {
      "cell_type": "code",
      "execution_count": 1,
      "metadata": {
        "id": "DKvQRkmbIPuR"
      },
      "outputs": [],
      "source": [
        "from mpl_toolkits.axisartist.axislines import SubplotZero\n",
        "import matplotlib.pyplot as plt\n",
        "import numpy as np\n",
        "import pandas as pd\n",
        "import seaborn\n",
        "from numpy import unique\n",
        "from pandas import read_csv\n",
        "seaborn.set(style='ticks')\n",
        "import matplotlib.cm as cm\n",
        "from sklearn import preprocessing\n",
        "from sklearn.preprocessing import MinMaxScaler\n",
        "from sklearn.preprocessing import StandardScaler\n",
        "from sklearn.model_selection import train_test_split\n",
        "from sklearn.model_selection import GridSearchCV\n",
        "from sklearn.model_selection import RandomizedSearchCV\n",
        "from sklearn.neighbors import KNeighborsClassifier\n",
        "from sklearn.tree import DecisionTreeClassifier\n",
        "from sklearn.neural_network import MLPClassifier\n",
        "from sklearn.metrics import classification_report\n",
        "from sklearn.svm import SVC"
      ]
    },
    {
      "attachments": {},
      "cell_type": "markdown",
      "metadata": {
        "colab": {
          "base_uri": "https://localhost:8080/"
        },
        "id": "oBx870n0IaAu",
        "outputId": "480dc1f9-cdaf-4250-fb67-5cb1549c1c5a"
      },
      "source": [
        "from google.colab import drive\n",
        "drive.mount('/content/drive', force_remount=True)\n",
        "%cd /content/drive/My Drive/Tel-U/SEMESTER 4/assesment_3_ilmu_data/\n",
        "!ls"
      ]
    },
    {
      "attachments": {},
      "cell_type": "markdown",
      "metadata": {
        "colab": {
          "base_uri": "https://localhost:8080/",
          "height": 424
        },
        "id": "tG4YFyCUI_D3",
        "outputId": "60d1328e-da8d-4abf-9f12-c647e76555de"
      },
      "source": [
        "#load data google drive\n",
        "df = pd.read_csv('diabetes_prediction_dataset.csv')\n",
        "df"
      ]
    },
    {
      "cell_type": "code",
      "execution_count": 2,
      "metadata": {},
      "outputs": [
        {
          "data": {
            "text/html": [
              "<div>\n",
              "<style scoped>\n",
              "    .dataframe tbody tr th:only-of-type {\n",
              "        vertical-align: middle;\n",
              "    }\n",
              "\n",
              "    .dataframe tbody tr th {\n",
              "        vertical-align: top;\n",
              "    }\n",
              "\n",
              "    .dataframe thead th {\n",
              "        text-align: right;\n",
              "    }\n",
              "</style>\n",
              "<table border=\"1\" class=\"dataframe\">\n",
              "  <thead>\n",
              "    <tr style=\"text-align: right;\">\n",
              "      <th></th>\n",
              "      <th>gender</th>\n",
              "      <th>age</th>\n",
              "      <th>hypertension</th>\n",
              "      <th>heart_disease</th>\n",
              "      <th>smoking_history</th>\n",
              "      <th>bmi</th>\n",
              "      <th>HbA1c_level</th>\n",
              "      <th>blood_glucose_level</th>\n",
              "      <th>diabetes</th>\n",
              "    </tr>\n",
              "  </thead>\n",
              "  <tbody>\n",
              "    <tr>\n",
              "      <th>0</th>\n",
              "      <td>Female</td>\n",
              "      <td>80.0</td>\n",
              "      <td>0</td>\n",
              "      <td>1</td>\n",
              "      <td>never</td>\n",
              "      <td>25.19</td>\n",
              "      <td>6.6</td>\n",
              "      <td>140</td>\n",
              "      <td>0</td>\n",
              "    </tr>\n",
              "    <tr>\n",
              "      <th>1</th>\n",
              "      <td>Female</td>\n",
              "      <td>54.0</td>\n",
              "      <td>0</td>\n",
              "      <td>0</td>\n",
              "      <td>No Info</td>\n",
              "      <td>27.32</td>\n",
              "      <td>6.6</td>\n",
              "      <td>80</td>\n",
              "      <td>0</td>\n",
              "    </tr>\n",
              "    <tr>\n",
              "      <th>2</th>\n",
              "      <td>Male</td>\n",
              "      <td>28.0</td>\n",
              "      <td>0</td>\n",
              "      <td>0</td>\n",
              "      <td>never</td>\n",
              "      <td>27.32</td>\n",
              "      <td>5.7</td>\n",
              "      <td>158</td>\n",
              "      <td>0</td>\n",
              "    </tr>\n",
              "    <tr>\n",
              "      <th>3</th>\n",
              "      <td>Female</td>\n",
              "      <td>36.0</td>\n",
              "      <td>0</td>\n",
              "      <td>0</td>\n",
              "      <td>current</td>\n",
              "      <td>23.45</td>\n",
              "      <td>5.0</td>\n",
              "      <td>155</td>\n",
              "      <td>0</td>\n",
              "    </tr>\n",
              "    <tr>\n",
              "      <th>4</th>\n",
              "      <td>Male</td>\n",
              "      <td>76.0</td>\n",
              "      <td>1</td>\n",
              "      <td>1</td>\n",
              "      <td>current</td>\n",
              "      <td>20.14</td>\n",
              "      <td>4.8</td>\n",
              "      <td>155</td>\n",
              "      <td>0</td>\n",
              "    </tr>\n",
              "    <tr>\n",
              "      <th>...</th>\n",
              "      <td>...</td>\n",
              "      <td>...</td>\n",
              "      <td>...</td>\n",
              "      <td>...</td>\n",
              "      <td>...</td>\n",
              "      <td>...</td>\n",
              "      <td>...</td>\n",
              "      <td>...</td>\n",
              "      <td>...</td>\n",
              "    </tr>\n",
              "    <tr>\n",
              "      <th>99995</th>\n",
              "      <td>Female</td>\n",
              "      <td>80.0</td>\n",
              "      <td>0</td>\n",
              "      <td>0</td>\n",
              "      <td>No Info</td>\n",
              "      <td>27.32</td>\n",
              "      <td>6.2</td>\n",
              "      <td>90</td>\n",
              "      <td>0</td>\n",
              "    </tr>\n",
              "    <tr>\n",
              "      <th>99996</th>\n",
              "      <td>Female</td>\n",
              "      <td>2.0</td>\n",
              "      <td>0</td>\n",
              "      <td>0</td>\n",
              "      <td>No Info</td>\n",
              "      <td>17.37</td>\n",
              "      <td>6.5</td>\n",
              "      <td>100</td>\n",
              "      <td>0</td>\n",
              "    </tr>\n",
              "    <tr>\n",
              "      <th>99997</th>\n",
              "      <td>Male</td>\n",
              "      <td>66.0</td>\n",
              "      <td>0</td>\n",
              "      <td>0</td>\n",
              "      <td>former</td>\n",
              "      <td>27.83</td>\n",
              "      <td>5.7</td>\n",
              "      <td>155</td>\n",
              "      <td>0</td>\n",
              "    </tr>\n",
              "    <tr>\n",
              "      <th>99998</th>\n",
              "      <td>Female</td>\n",
              "      <td>24.0</td>\n",
              "      <td>0</td>\n",
              "      <td>0</td>\n",
              "      <td>never</td>\n",
              "      <td>35.42</td>\n",
              "      <td>4.0</td>\n",
              "      <td>100</td>\n",
              "      <td>0</td>\n",
              "    </tr>\n",
              "    <tr>\n",
              "      <th>99999</th>\n",
              "      <td>Female</td>\n",
              "      <td>57.0</td>\n",
              "      <td>0</td>\n",
              "      <td>0</td>\n",
              "      <td>current</td>\n",
              "      <td>22.43</td>\n",
              "      <td>6.6</td>\n",
              "      <td>90</td>\n",
              "      <td>0</td>\n",
              "    </tr>\n",
              "  </tbody>\n",
              "</table>\n",
              "<p>100000 rows × 9 columns</p>\n",
              "</div>"
            ],
            "text/plain": [
              "       gender   age  hypertension  heart_disease smoking_history    bmi  \\\n",
              "0      Female  80.0             0              1           never  25.19   \n",
              "1      Female  54.0             0              0         No Info  27.32   \n",
              "2        Male  28.0             0              0           never  27.32   \n",
              "3      Female  36.0             0              0         current  23.45   \n",
              "4        Male  76.0             1              1         current  20.14   \n",
              "...       ...   ...           ...            ...             ...    ...   \n",
              "99995  Female  80.0             0              0         No Info  27.32   \n",
              "99996  Female   2.0             0              0         No Info  17.37   \n",
              "99997    Male  66.0             0              0          former  27.83   \n",
              "99998  Female  24.0             0              0           never  35.42   \n",
              "99999  Female  57.0             0              0         current  22.43   \n",
              "\n",
              "       HbA1c_level  blood_glucose_level  diabetes  \n",
              "0              6.6                  140         0  \n",
              "1              6.6                   80         0  \n",
              "2              5.7                  158         0  \n",
              "3              5.0                  155         0  \n",
              "4              4.8                  155         0  \n",
              "...            ...                  ...       ...  \n",
              "99995          6.2                   90         0  \n",
              "99996          6.5                  100         0  \n",
              "99997          5.7                  155         0  \n",
              "99998          4.0                  100         0  \n",
              "99999          6.6                   90         0  \n",
              "\n",
              "[100000 rows x 9 columns]"
            ]
          },
          "execution_count": 2,
          "metadata": {},
          "output_type": "execute_result"
        }
      ],
      "source": [
        "df = pd.read_csv('../dataset/diabetes_prediction_dataset.csv')\n",
        "df"
      ]
    },
    {
      "attachments": {},
      "cell_type": "markdown",
      "metadata": {
        "id": "b5Ny_ID6JIRE"
      },
      "source": [
        "# Data Pre Processing"
      ]
    },
    {
      "cell_type": "code",
      "execution_count": 3,
      "metadata": {
        "colab": {
          "base_uri": "https://localhost:8080/",
          "height": 206
        },
        "id": "8HkHcjQ8JJ9F",
        "outputId": "872dab4b-472c-402c-c72f-117ff63c690e"
      },
      "outputs": [
        {
          "data": {
            "text/html": [
              "<div>\n",
              "<style scoped>\n",
              "    .dataframe tbody tr th:only-of-type {\n",
              "        vertical-align: middle;\n",
              "    }\n",
              "\n",
              "    .dataframe tbody tr th {\n",
              "        vertical-align: top;\n",
              "    }\n",
              "\n",
              "    .dataframe thead th {\n",
              "        text-align: right;\n",
              "    }\n",
              "</style>\n",
              "<table border=\"1\" class=\"dataframe\">\n",
              "  <thead>\n",
              "    <tr style=\"text-align: right;\">\n",
              "      <th></th>\n",
              "      <th>gender</th>\n",
              "      <th>age</th>\n",
              "      <th>hypertension</th>\n",
              "      <th>heart_disease</th>\n",
              "      <th>smoking_history</th>\n",
              "      <th>bmi</th>\n",
              "      <th>HbA1c_level</th>\n",
              "      <th>blood_glucose_level</th>\n",
              "      <th>diabetes</th>\n",
              "    </tr>\n",
              "  </thead>\n",
              "  <tbody>\n",
              "    <tr>\n",
              "      <th>0</th>\n",
              "      <td>Female</td>\n",
              "      <td>80.0</td>\n",
              "      <td>0</td>\n",
              "      <td>1</td>\n",
              "      <td>never</td>\n",
              "      <td>25.19</td>\n",
              "      <td>6.6</td>\n",
              "      <td>140</td>\n",
              "      <td>0</td>\n",
              "    </tr>\n",
              "    <tr>\n",
              "      <th>1</th>\n",
              "      <td>Female</td>\n",
              "      <td>54.0</td>\n",
              "      <td>0</td>\n",
              "      <td>0</td>\n",
              "      <td>No Info</td>\n",
              "      <td>27.32</td>\n",
              "      <td>6.6</td>\n",
              "      <td>80</td>\n",
              "      <td>0</td>\n",
              "    </tr>\n",
              "    <tr>\n",
              "      <th>2</th>\n",
              "      <td>Male</td>\n",
              "      <td>28.0</td>\n",
              "      <td>0</td>\n",
              "      <td>0</td>\n",
              "      <td>never</td>\n",
              "      <td>27.32</td>\n",
              "      <td>5.7</td>\n",
              "      <td>158</td>\n",
              "      <td>0</td>\n",
              "    </tr>\n",
              "    <tr>\n",
              "      <th>3</th>\n",
              "      <td>Female</td>\n",
              "      <td>36.0</td>\n",
              "      <td>0</td>\n",
              "      <td>0</td>\n",
              "      <td>current</td>\n",
              "      <td>23.45</td>\n",
              "      <td>5.0</td>\n",
              "      <td>155</td>\n",
              "      <td>0</td>\n",
              "    </tr>\n",
              "    <tr>\n",
              "      <th>4</th>\n",
              "      <td>Male</td>\n",
              "      <td>76.0</td>\n",
              "      <td>1</td>\n",
              "      <td>1</td>\n",
              "      <td>current</td>\n",
              "      <td>20.14</td>\n",
              "      <td>4.8</td>\n",
              "      <td>155</td>\n",
              "      <td>0</td>\n",
              "    </tr>\n",
              "  </tbody>\n",
              "</table>\n",
              "</div>"
            ],
            "text/plain": [
              "   gender   age  hypertension  heart_disease smoking_history    bmi  \\\n",
              "0  Female  80.0             0              1           never  25.19   \n",
              "1  Female  54.0             0              0         No Info  27.32   \n",
              "2    Male  28.0             0              0           never  27.32   \n",
              "3  Female  36.0             0              0         current  23.45   \n",
              "4    Male  76.0             1              1         current  20.14   \n",
              "\n",
              "   HbA1c_level  blood_glucose_level  diabetes  \n",
              "0          6.6                  140         0  \n",
              "1          6.6                   80         0  \n",
              "2          5.7                  158         0  \n",
              "3          5.0                  155         0  \n",
              "4          4.8                  155         0  "
            ]
          },
          "execution_count": 3,
          "metadata": {},
          "output_type": "execute_result"
        }
      ],
      "source": [
        "df.head()"
      ]
    },
    {
      "cell_type": "code",
      "execution_count": 4,
      "metadata": {
        "colab": {
          "base_uri": "https://localhost:8080/",
          "height": 206
        },
        "id": "ZfrdjnA7Jyes",
        "outputId": "9a00f3cc-aee9-4c59-e74c-0bd2eaf42e17"
      },
      "outputs": [
        {
          "data": {
            "text/html": [
              "<div>\n",
              "<style scoped>\n",
              "    .dataframe tbody tr th:only-of-type {\n",
              "        vertical-align: middle;\n",
              "    }\n",
              "\n",
              "    .dataframe tbody tr th {\n",
              "        vertical-align: top;\n",
              "    }\n",
              "\n",
              "    .dataframe thead th {\n",
              "        text-align: right;\n",
              "    }\n",
              "</style>\n",
              "<table border=\"1\" class=\"dataframe\">\n",
              "  <thead>\n",
              "    <tr style=\"text-align: right;\">\n",
              "      <th></th>\n",
              "      <th>gender</th>\n",
              "      <th>age</th>\n",
              "      <th>hypertension</th>\n",
              "      <th>heart_disease</th>\n",
              "      <th>smoking_history</th>\n",
              "      <th>bmi</th>\n",
              "      <th>HbA1c_level</th>\n",
              "      <th>blood_glucose_level</th>\n",
              "      <th>diabetes</th>\n",
              "    </tr>\n",
              "  </thead>\n",
              "  <tbody>\n",
              "    <tr>\n",
              "      <th>0</th>\n",
              "      <td>0</td>\n",
              "      <td>80.0</td>\n",
              "      <td>0</td>\n",
              "      <td>1</td>\n",
              "      <td>4</td>\n",
              "      <td>25.19</td>\n",
              "      <td>6.6</td>\n",
              "      <td>140</td>\n",
              "      <td>0</td>\n",
              "    </tr>\n",
              "    <tr>\n",
              "      <th>1</th>\n",
              "      <td>0</td>\n",
              "      <td>54.0</td>\n",
              "      <td>0</td>\n",
              "      <td>0</td>\n",
              "      <td>0</td>\n",
              "      <td>27.32</td>\n",
              "      <td>6.6</td>\n",
              "      <td>80</td>\n",
              "      <td>0</td>\n",
              "    </tr>\n",
              "    <tr>\n",
              "      <th>2</th>\n",
              "      <td>1</td>\n",
              "      <td>28.0</td>\n",
              "      <td>0</td>\n",
              "      <td>0</td>\n",
              "      <td>4</td>\n",
              "      <td>27.32</td>\n",
              "      <td>5.7</td>\n",
              "      <td>158</td>\n",
              "      <td>0</td>\n",
              "    </tr>\n",
              "    <tr>\n",
              "      <th>3</th>\n",
              "      <td>0</td>\n",
              "      <td>36.0</td>\n",
              "      <td>0</td>\n",
              "      <td>0</td>\n",
              "      <td>1</td>\n",
              "      <td>23.45</td>\n",
              "      <td>5.0</td>\n",
              "      <td>155</td>\n",
              "      <td>0</td>\n",
              "    </tr>\n",
              "    <tr>\n",
              "      <th>4</th>\n",
              "      <td>1</td>\n",
              "      <td>76.0</td>\n",
              "      <td>1</td>\n",
              "      <td>1</td>\n",
              "      <td>1</td>\n",
              "      <td>20.14</td>\n",
              "      <td>4.8</td>\n",
              "      <td>155</td>\n",
              "      <td>0</td>\n",
              "    </tr>\n",
              "  </tbody>\n",
              "</table>\n",
              "</div>"
            ],
            "text/plain": [
              "   gender   age  hypertension  heart_disease  smoking_history    bmi  \\\n",
              "0       0  80.0             0              1                4  25.19   \n",
              "1       0  54.0             0              0                0  27.32   \n",
              "2       1  28.0             0              0                4  27.32   \n",
              "3       0  36.0             0              0                1  23.45   \n",
              "4       1  76.0             1              1                1  20.14   \n",
              "\n",
              "   HbA1c_level  blood_glucose_level  diabetes  \n",
              "0          6.6                  140         0  \n",
              "1          6.6                   80         0  \n",
              "2          5.7                  158         0  \n",
              "3          5.0                  155         0  \n",
              "4          4.8                  155         0  "
            ]
          },
          "execution_count": 4,
          "metadata": {},
          "output_type": "execute_result"
        }
      ],
      "source": [
        "# encoding categorical variables\n",
        "from sklearn.preprocessing import LabelEncoder\n",
        "le = LabelEncoder()\n",
        "\n",
        "# Categorical Encode\n",
        "df['gender']          = le.fit_transform(df['gender'])\n",
        "df['smoking_history'] = le.fit_transform(df['smoking_history'])\n",
        "\n",
        "df.head()"
      ]
    },
    {
      "cell_type": "code",
      "execution_count": 5,
      "metadata": {
        "id": "lxaOifKMKZe2"
      },
      "outputs": [],
      "source": [
        "X = df.drop(columns = 'diabetes', axis = 1)\n",
        "y = df['diabetes']"
      ]
    },
    {
      "cell_type": "code",
      "execution_count": 6,
      "metadata": {
        "colab": {
          "base_uri": "https://localhost:8080/",
          "height": 206
        },
        "id": "qDtzKehqK0Ej",
        "outputId": "fad22486-2e5c-4a66-8f88-e22685357010"
      },
      "outputs": [
        {
          "data": {
            "text/html": [
              "<div>\n",
              "<style scoped>\n",
              "    .dataframe tbody tr th:only-of-type {\n",
              "        vertical-align: middle;\n",
              "    }\n",
              "\n",
              "    .dataframe tbody tr th {\n",
              "        vertical-align: top;\n",
              "    }\n",
              "\n",
              "    .dataframe thead th {\n",
              "        text-align: right;\n",
              "    }\n",
              "</style>\n",
              "<table border=\"1\" class=\"dataframe\">\n",
              "  <thead>\n",
              "    <tr style=\"text-align: right;\">\n",
              "      <th></th>\n",
              "      <th>gender</th>\n",
              "      <th>age</th>\n",
              "      <th>hypertension</th>\n",
              "      <th>heart_disease</th>\n",
              "      <th>smoking_history</th>\n",
              "      <th>bmi</th>\n",
              "      <th>HbA1c_level</th>\n",
              "      <th>blood_glucose_level</th>\n",
              "    </tr>\n",
              "  </thead>\n",
              "  <tbody>\n",
              "    <tr>\n",
              "      <th>0</th>\n",
              "      <td>0</td>\n",
              "      <td>80.0</td>\n",
              "      <td>0</td>\n",
              "      <td>1</td>\n",
              "      <td>4</td>\n",
              "      <td>25.19</td>\n",
              "      <td>6.6</td>\n",
              "      <td>140</td>\n",
              "    </tr>\n",
              "    <tr>\n",
              "      <th>1</th>\n",
              "      <td>0</td>\n",
              "      <td>54.0</td>\n",
              "      <td>0</td>\n",
              "      <td>0</td>\n",
              "      <td>0</td>\n",
              "      <td>27.32</td>\n",
              "      <td>6.6</td>\n",
              "      <td>80</td>\n",
              "    </tr>\n",
              "    <tr>\n",
              "      <th>2</th>\n",
              "      <td>1</td>\n",
              "      <td>28.0</td>\n",
              "      <td>0</td>\n",
              "      <td>0</td>\n",
              "      <td>4</td>\n",
              "      <td>27.32</td>\n",
              "      <td>5.7</td>\n",
              "      <td>158</td>\n",
              "    </tr>\n",
              "    <tr>\n",
              "      <th>3</th>\n",
              "      <td>0</td>\n",
              "      <td>36.0</td>\n",
              "      <td>0</td>\n",
              "      <td>0</td>\n",
              "      <td>1</td>\n",
              "      <td>23.45</td>\n",
              "      <td>5.0</td>\n",
              "      <td>155</td>\n",
              "    </tr>\n",
              "    <tr>\n",
              "      <th>4</th>\n",
              "      <td>1</td>\n",
              "      <td>76.0</td>\n",
              "      <td>1</td>\n",
              "      <td>1</td>\n",
              "      <td>1</td>\n",
              "      <td>20.14</td>\n",
              "      <td>4.8</td>\n",
              "      <td>155</td>\n",
              "    </tr>\n",
              "  </tbody>\n",
              "</table>\n",
              "</div>"
            ],
            "text/plain": [
              "   gender   age  hypertension  heart_disease  smoking_history    bmi  \\\n",
              "0       0  80.0             0              1                4  25.19   \n",
              "1       0  54.0             0              0                0  27.32   \n",
              "2       1  28.0             0              0                4  27.32   \n",
              "3       0  36.0             0              0                1  23.45   \n",
              "4       1  76.0             1              1                1  20.14   \n",
              "\n",
              "   HbA1c_level  blood_glucose_level  \n",
              "0          6.6                  140  \n",
              "1          6.6                   80  \n",
              "2          5.7                  158  \n",
              "3          5.0                  155  \n",
              "4          4.8                  155  "
            ]
          },
          "execution_count": 6,
          "metadata": {},
          "output_type": "execute_result"
        }
      ],
      "source": [
        "X.head()"
      ]
    },
    {
      "cell_type": "code",
      "execution_count": 7,
      "metadata": {
        "colab": {
          "base_uri": "https://localhost:8080/"
        },
        "id": "tWYluF0CK14-",
        "outputId": "9a66cb1d-bae3-48dd-c5f2-74e5987e79af"
      },
      "outputs": [
        {
          "data": {
            "text/plain": [
              "0    0\n",
              "1    0\n",
              "2    0\n",
              "3    0\n",
              "4    0\n",
              "Name: diabetes, dtype: int64"
            ]
          },
          "execution_count": 7,
          "metadata": {},
          "output_type": "execute_result"
        }
      ],
      "source": [
        "y.head()"
      ]
    },
    {
      "cell_type": "code",
      "execution_count": 8,
      "metadata": {
        "colab": {
          "base_uri": "https://localhost:8080/"
        },
        "id": "MeYzF9fmK2vn",
        "outputId": "8d3aaf30-d10a-43d4-c034-f4a66bc57ded"
      },
      "outputs": [
        {
          "data": {
            "text/plain": [
              "((100000, 8), (100000,))"
            ]
          },
          "execution_count": 8,
          "metadata": {},
          "output_type": "execute_result"
        }
      ],
      "source": [
        "X.shape, y.shape"
      ]
    },
    {
      "attachments": {},
      "cell_type": "markdown",
      "metadata": {
        "id": "6XkcCkexK_-S"
      },
      "source": [
        "# Feature Scaling"
      ]
    },
    {
      "cell_type": "code",
      "execution_count": 9,
      "metadata": {
        "id": "MdufruhhLGIG"
      },
      "outputs": [],
      "source": [
        "import joblib\n",
        "from sklearn.impute import SimpleImputer\n",
        "\n",
        "# Mengisi NaN dengan mean dari setiap kolom\n",
        "imputer = SimpleImputer(strategy='mean')\n",
        "X_imputed = imputer.fit_transform(X)\n",
        "\n",
        "joblib.dump(X_imputed, '../model/X_imputed.sav')\n",
        "X_imputed = joblib.load('../model/X_imputed.sav')"
      ]
    },
    {
      "cell_type": "code",
      "execution_count": 10,
      "metadata": {
        "id": "MWhVjnlSVPR5"
      },
      "outputs": [],
      "source": [
        "from imblearn.over_sampling import SMOTE,RandomOverSampler, SMOTENC, SVMSMOTE, ADASYN\n",
        "from imblearn.combine import SMOTEENN,SMOTETomek\n",
        "\n",
        "oversample = SMOTE()\n",
        "#oversample = SVMSMOTE()\n",
        "X_smote, y_smote = oversample.fit_resample(X_imputed, y)\n",
        "\n",
        "joblib.dump(X_smote, '../model/X_smote.sav')\n",
        "joblib.dump(y_smote, '../model/y_smote.sav')\n",
        "\n",
        "X_smote = joblib.load('../model/X_smote.sav')\n",
        "y_smote = joblib.load('../model/y_smote.sav')"
      ]
    },
    {
      "cell_type": "code",
      "execution_count": 11,
      "metadata": {
        "id": "EX48rhaLLNyb"
      },
      "outputs": [],
      "source": [
        "from sklearn.model_selection import train_test_split\n",
        "from sklearn.preprocessing import StandardScaler\n",
        "\n",
        "# splitting data into training set and test set\n",
        "X_train, X_test, y_train, y_test = train_test_split(X_smote, y_smote, test_size = 0.2)"
      ]
    },
    {
      "cell_type": "code",
      "execution_count": 12,
      "metadata": {
        "id": "bUyqp4zYLR91"
      },
      "outputs": [],
      "source": [
        "scaler = StandardScaler()\n",
        "\n",
        "scaler.fit(X_train)\n",
        "\n",
        "joblib.dump(scaler, '../model/scaler.sav')\n",
        "scaler = joblib.load('../model/scaler.sav')\n",
        "\n",
        "X_train = scaler.transform(X_train)\n",
        "X_test = scaler.transform(X_test)"
      ]
    },
    {
      "attachments": {},
      "cell_type": "markdown",
      "metadata": {
        "id": "6Ru2tUaUQrou"
      },
      "source": [
        "# Grid Search untuk Klasifikasi - KNN"
      ]
    },
    {
      "cell_type": "code",
      "execution_count": 15,
      "metadata": {
        "colab": {
          "base_uri": "https://localhost:8080/"
        },
        "id": "ns20xwyhQvCa",
        "outputId": "1a662a36-8f43-4059-f051-f072645a8b5e"
      },
      "outputs": [
        {
          "name": "stdout",
          "output_type": "stream",
          "text": [
            "Fitting 5 folds for each of 24 candidates, totalling 120 fits\n",
            "[CV 1/5] END metric=euclidean, n_neighbors=3, weights=uniform;, score=0.964 total time=   2.3s\n",
            "[CV 2/5] END metric=euclidean, n_neighbors=3, weights=uniform;, score=0.966 total time=   2.4s\n",
            "[CV 3/5] END metric=euclidean, n_neighbors=3, weights=uniform;, score=0.970 total time=   2.2s\n",
            "[CV 4/5] END metric=euclidean, n_neighbors=3, weights=uniform;, score=0.969 total time=   2.4s\n",
            "[CV 5/5] END metric=euclidean, n_neighbors=3, weights=uniform;, score=0.966 total time=   2.2s\n",
            "[CV 1/5] END metric=euclidean, n_neighbors=3, weights=distance;, score=0.972 total time=   1.9s\n",
            "[CV 2/5] END metric=euclidean, n_neighbors=3, weights=distance;, score=0.972 total time=   1.9s\n",
            "[CV 3/5] END metric=euclidean, n_neighbors=3, weights=distance;, score=0.976 total time=   1.8s\n",
            "[CV 4/5] END metric=euclidean, n_neighbors=3, weights=distance;, score=0.973 total time=   1.8s\n",
            "[CV 5/5] END metric=euclidean, n_neighbors=3, weights=distance;, score=0.972 total time=   1.8s\n",
            "[CV 1/5] END metric=euclidean, n_neighbors=5, weights=uniform;, score=0.959 total time=   2.5s\n",
            "[CV 2/5] END metric=euclidean, n_neighbors=5, weights=uniform;, score=0.960 total time=   2.7s\n",
            "[CV 3/5] END metric=euclidean, n_neighbors=5, weights=uniform;, score=0.960 total time=   2.6s\n",
            "[CV 4/5] END metric=euclidean, n_neighbors=5, weights=uniform;, score=0.963 total time=   2.7s\n",
            "[CV 5/5] END metric=euclidean, n_neighbors=5, weights=uniform;, score=0.959 total time=   2.7s\n",
            "[CV 1/5] END metric=euclidean, n_neighbors=5, weights=distance;, score=0.970 total time=   2.2s\n",
            "[CV 2/5] END metric=euclidean, n_neighbors=5, weights=distance;, score=0.970 total time=   2.2s\n",
            "[CV 3/5] END metric=euclidean, n_neighbors=5, weights=distance;, score=0.974 total time=   2.0s\n",
            "[CV 4/5] END metric=euclidean, n_neighbors=5, weights=distance;, score=0.973 total time=   2.1s\n",
            "[CV 5/5] END metric=euclidean, n_neighbors=5, weights=distance;, score=0.970 total time=   2.2s\n",
            "[CV 1/5] END metric=manhattan, n_neighbors=3, weights=uniform;, score=0.968 total time=   2.4s\n",
            "[CV 2/5] END metric=manhattan, n_neighbors=3, weights=uniform;, score=0.968 total time=   2.9s\n",
            "[CV 3/5] END metric=manhattan, n_neighbors=3, weights=uniform;, score=0.972 total time=   2.2s\n",
            "[CV 4/5] END metric=manhattan, n_neighbors=3, weights=uniform;, score=0.972 total time=   2.2s\n",
            "[CV 5/5] END metric=manhattan, n_neighbors=3, weights=uniform;, score=0.970 total time=   2.3s\n",
            "[CV 1/5] END metric=manhattan, n_neighbors=3, weights=distance;, score=0.975 total time=   1.9s\n",
            "[CV 2/5] END metric=manhattan, n_neighbors=3, weights=distance;, score=0.975 total time=   1.9s\n",
            "[CV 3/5] END metric=manhattan, n_neighbors=3, weights=distance;, score=0.978 total time=   1.7s\n",
            "[CV 4/5] END metric=manhattan, n_neighbors=3, weights=distance;, score=0.977 total time=   2.0s\n",
            "[CV 5/5] END metric=manhattan, n_neighbors=3, weights=distance;, score=0.976 total time=   1.8s\n",
            "[CV 1/5] END metric=manhattan, n_neighbors=5, weights=uniform;, score=0.960 total time=   2.6s\n",
            "[CV 2/5] END metric=manhattan, n_neighbors=5, weights=uniform;, score=0.963 total time=   2.7s\n",
            "[CV 3/5] END metric=manhattan, n_neighbors=5, weights=uniform;, score=0.963 total time=   2.5s\n",
            "[CV 4/5] END metric=manhattan, n_neighbors=5, weights=uniform;, score=0.965 total time=   2.6s\n",
            "[CV 5/5] END metric=manhattan, n_neighbors=5, weights=uniform;, score=0.963 total time=   2.5s\n",
            "[CV 1/5] END metric=manhattan, n_neighbors=5, weights=distance;, score=0.972 total time=   2.1s\n",
            "[CV 2/5] END metric=manhattan, n_neighbors=5, weights=distance;, score=0.973 total time=   2.2s\n",
            "[CV 3/5] END metric=manhattan, n_neighbors=5, weights=distance;, score=0.977 total time=   2.1s\n",
            "[CV 4/5] END metric=manhattan, n_neighbors=5, weights=distance;, score=0.975 total time=   2.1s\n",
            "[CV 5/5] END metric=manhattan, n_neighbors=5, weights=distance;, score=0.974 total time=   2.1s\n",
            "[CV 1/5] END metric=chebyshev, n_neighbors=3, weights=uniform;, score=0.960 total time=   2.8s\n",
            "[CV 2/5] END metric=chebyshev, n_neighbors=3, weights=uniform;, score=0.962 total time=   2.8s\n",
            "[CV 3/5] END metric=chebyshev, n_neighbors=3, weights=uniform;, score=0.963 total time=   2.7s\n",
            "[CV 4/5] END metric=chebyshev, n_neighbors=3, weights=uniform;, score=0.964 total time=   2.6s\n",
            "[CV 5/5] END metric=chebyshev, n_neighbors=3, weights=uniform;, score=0.962 total time=   2.6s\n",
            "[CV 1/5] END metric=chebyshev, n_neighbors=3, weights=distance;, score=0.967 total time=   2.2s\n",
            "[CV 2/5] END metric=chebyshev, n_neighbors=3, weights=distance;, score=0.969 total time=   2.4s\n",
            "[CV 3/5] END metric=chebyshev, n_neighbors=3, weights=distance;, score=0.970 total time=   2.2s\n",
            "[CV 4/5] END metric=chebyshev, n_neighbors=3, weights=distance;, score=0.970 total time=   2.4s\n",
            "[CV 5/5] END metric=chebyshev, n_neighbors=3, weights=distance;, score=0.968 total time=   2.2s\n",
            "[CV 1/5] END metric=chebyshev, n_neighbors=5, weights=uniform;, score=0.956 total time=   3.0s\n",
            "[CV 2/5] END metric=chebyshev, n_neighbors=5, weights=uniform;, score=0.956 total time=   3.0s\n",
            "[CV 3/5] END metric=chebyshev, n_neighbors=5, weights=uniform;, score=0.956 total time=   2.9s\n",
            "[CV 4/5] END metric=chebyshev, n_neighbors=5, weights=uniform;, score=0.958 total time=   2.9s\n",
            "[CV 5/5] END metric=chebyshev, n_neighbors=5, weights=uniform;, score=0.956 total time=   3.0s\n",
            "[CV 1/5] END metric=chebyshev, n_neighbors=5, weights=distance;, score=0.967 total time=   2.5s\n",
            "[CV 2/5] END metric=chebyshev, n_neighbors=5, weights=distance;, score=0.967 total time=   2.6s\n",
            "[CV 3/5] END metric=chebyshev, n_neighbors=5, weights=distance;, score=0.968 total time=   2.5s\n",
            "[CV 4/5] END metric=chebyshev, n_neighbors=5, weights=distance;, score=0.969 total time=   2.5s\n",
            "[CV 5/5] END metric=chebyshev, n_neighbors=5, weights=distance;, score=0.966 total time=   2.6s\n",
            "[CV 1/5] END metric=minkowski, n_neighbors=3, weights=uniform;, score=0.964 total time=   2.0s\n",
            "[CV 2/5] END metric=minkowski, n_neighbors=3, weights=uniform;, score=0.966 total time=   2.0s\n",
            "[CV 3/5] END metric=minkowski, n_neighbors=3, weights=uniform;, score=0.970 total time=   2.0s\n",
            "[CV 4/5] END metric=minkowski, n_neighbors=3, weights=uniform;, score=0.969 total time=   2.0s\n",
            "[CV 5/5] END metric=minkowski, n_neighbors=3, weights=uniform;, score=0.966 total time=   2.1s\n",
            "[CV 1/5] END metric=minkowski, n_neighbors=3, weights=distance;, score=0.972 total time=   1.8s\n",
            "[CV 2/5] END metric=minkowski, n_neighbors=3, weights=distance;, score=0.972 total time=   1.8s\n",
            "[CV 3/5] END metric=minkowski, n_neighbors=3, weights=distance;, score=0.976 total time=   1.9s\n",
            "[CV 4/5] END metric=minkowski, n_neighbors=3, weights=distance;, score=0.973 total time=   1.7s\n",
            "[CV 5/5] END metric=minkowski, n_neighbors=3, weights=distance;, score=0.972 total time=   1.7s\n",
            "[CV 1/5] END metric=minkowski, n_neighbors=5, weights=uniform;, score=0.959 total time=   2.4s\n",
            "[CV 2/5] END metric=minkowski, n_neighbors=5, weights=uniform;, score=0.960 total time=   2.6s\n",
            "[CV 3/5] END metric=minkowski, n_neighbors=5, weights=uniform;, score=0.960 total time=   2.4s\n",
            "[CV 4/5] END metric=minkowski, n_neighbors=5, weights=uniform;, score=0.963 total time=   2.3s\n",
            "[CV 5/5] END metric=minkowski, n_neighbors=5, weights=uniform;, score=0.959 total time=   2.4s\n",
            "[CV 1/5] END metric=minkowski, n_neighbors=5, weights=distance;, score=0.970 total time=   2.1s\n",
            "[CV 2/5] END metric=minkowski, n_neighbors=5, weights=distance;, score=0.970 total time=   1.9s\n",
            "[CV 3/5] END metric=minkowski, n_neighbors=5, weights=distance;, score=0.974 total time=   1.8s\n",
            "[CV 4/5] END metric=minkowski, n_neighbors=5, weights=distance;, score=0.973 total time=   1.8s\n",
            "[CV 5/5] END metric=minkowski, n_neighbors=5, weights=distance;, score=0.970 total time=   1.9s\n",
            "[CV 1/5] END metric=wminkowski, n_neighbors=3, weights=uniform;, score=nan total time=   0.0s\n",
            "[CV 2/5] END metric=wminkowski, n_neighbors=3, weights=uniform;, score=nan total time=   0.0s\n",
            "[CV 3/5] END metric=wminkowski, n_neighbors=3, weights=uniform;, score=nan total time=   0.0s\n",
            "[CV 4/5] END metric=wminkowski, n_neighbors=3, weights=uniform;, score=nan total time=   0.0s\n",
            "[CV 5/5] END metric=wminkowski, n_neighbors=3, weights=uniform;, score=nan total time=   0.0s\n",
            "[CV 1/5] END metric=wminkowski, n_neighbors=3, weights=distance;, score=nan total time=   0.0s\n",
            "[CV 2/5] END metric=wminkowski, n_neighbors=3, weights=distance;, score=nan total time=   0.0s\n",
            "[CV 3/5] END metric=wminkowski, n_neighbors=3, weights=distance;, score=nan total time=   0.0s\n",
            "[CV 4/5] END metric=wminkowski, n_neighbors=3, weights=distance;, score=nan total time=   0.0s\n",
            "[CV 5/5] END metric=wminkowski, n_neighbors=3, weights=distance;, score=nan total time=   0.0s\n",
            "[CV 1/5] END metric=wminkowski, n_neighbors=5, weights=uniform;, score=nan total time=   0.0s\n",
            "[CV 2/5] END metric=wminkowski, n_neighbors=5, weights=uniform;, score=nan total time=   0.0s\n",
            "[CV 3/5] END metric=wminkowski, n_neighbors=5, weights=uniform;, score=nan total time=   0.0s\n",
            "[CV 4/5] END metric=wminkowski, n_neighbors=5, weights=uniform;, score=nan total time=   0.0s\n",
            "[CV 5/5] END metric=wminkowski, n_neighbors=5, weights=uniform;, score=nan total time=   0.0s\n",
            "[CV 1/5] END metric=wminkowski, n_neighbors=5, weights=distance;, score=nan total time=   0.0s\n",
            "[CV 2/5] END metric=wminkowski, n_neighbors=5, weights=distance;, score=nan total time=   0.0s\n",
            "[CV 3/5] END metric=wminkowski, n_neighbors=5, weights=distance;, score=nan total time=   0.0s\n",
            "[CV 4/5] END metric=wminkowski, n_neighbors=5, weights=distance;, score=nan total time=   0.0s\n",
            "[CV 5/5] END metric=wminkowski, n_neighbors=5, weights=distance;, score=nan total time=   0.0s\n",
            "[CV 1/5] END metric=seuclidean, n_neighbors=3, weights=uniform;, score=nan total time=   0.0s\n",
            "[CV 2/5] END metric=seuclidean, n_neighbors=3, weights=uniform;, score=nan total time=   0.0s\n",
            "[CV 3/5] END metric=seuclidean, n_neighbors=3, weights=uniform;, score=nan total time=   0.0s\n",
            "[CV 4/5] END metric=seuclidean, n_neighbors=3, weights=uniform;, score=nan total time=   0.0s\n",
            "[CV 5/5] END metric=seuclidean, n_neighbors=3, weights=uniform;, score=nan total time=   0.0s\n",
            "[CV 1/5] END metric=seuclidean, n_neighbors=3, weights=distance;, score=nan total time=   0.0s\n",
            "[CV 2/5] END metric=seuclidean, n_neighbors=3, weights=distance;, score=nan total time=   0.0s\n",
            "[CV 3/5] END metric=seuclidean, n_neighbors=3, weights=distance;, score=nan total time=   0.0s\n",
            "[CV 4/5] END metric=seuclidean, n_neighbors=3, weights=distance;, score=nan total time=   0.0s\n",
            "[CV 5/5] END metric=seuclidean, n_neighbors=3, weights=distance;, score=nan total time=   0.0s\n",
            "[CV 1/5] END metric=seuclidean, n_neighbors=5, weights=uniform;, score=nan total time=   0.0s\n",
            "[CV 2/5] END metric=seuclidean, n_neighbors=5, weights=uniform;, score=nan total time=   0.0s\n",
            "[CV 3/5] END metric=seuclidean, n_neighbors=5, weights=uniform;, score=nan total time=   0.0s\n",
            "[CV 4/5] END metric=seuclidean, n_neighbors=5, weights=uniform;, score=nan total time=   0.0s\n",
            "[CV 5/5] END metric=seuclidean, n_neighbors=5, weights=uniform;, score=nan total time=   0.0s\n",
            "[CV 1/5] END metric=seuclidean, n_neighbors=5, weights=distance;, score=nan total time=   0.0s\n",
            "[CV 2/5] END metric=seuclidean, n_neighbors=5, weights=distance;, score=nan total time=   0.0s\n",
            "[CV 3/5] END metric=seuclidean, n_neighbors=5, weights=distance;, score=nan total time=   0.0s\n",
            "[CV 4/5] END metric=seuclidean, n_neighbors=5, weights=distance;, score=nan total time=   0.0s\n",
            "[CV 5/5] END metric=seuclidean, n_neighbors=5, weights=distance;, score=nan total time=   0.0s\n"
          ]
        },
        {
          "name": "stderr",
          "output_type": "stream",
          "text": [
            "c:\\Users\\Glen Kusuma\\miniconda3\\envs\\ildat-diabetes-prediction\\lib\\site-packages\\sklearn\\model_selection\\_validation.py:378: FitFailedWarning: \n",
            "40 fits failed out of a total of 120.\n",
            "The score on these train-test partitions for these parameters will be set to nan.\n",
            "If these failures are not expected, you can try to debug them by setting error_score='raise'.\n",
            "\n",
            "Below are more details about the failures:\n",
            "--------------------------------------------------------------------------------\n",
            "20 fits failed with the following error:\n",
            "Traceback (most recent call last):\n",
            "  File \"c:\\Users\\Glen Kusuma\\miniconda3\\envs\\ildat-diabetes-prediction\\lib\\site-packages\\sklearn\\model_selection\\_validation.py\", line 686, in _fit_and_score\n",
            "    estimator.fit(X_train, y_train, **fit_params)\n",
            "  File \"c:\\Users\\Glen Kusuma\\miniconda3\\envs\\ildat-diabetes-prediction\\lib\\site-packages\\sklearn\\neighbors\\_classification.py\", line 215, in fit\n",
            "    return self._fit(X, y)\n",
            "  File \"c:\\Users\\Glen Kusuma\\miniconda3\\envs\\ildat-diabetes-prediction\\lib\\site-packages\\sklearn\\neighbors\\_base.py\", line 646, in _fit\n",
            "    self._tree = BallTree(\n",
            "  File \"sklearn\\neighbors\\_binary_tree.pxi\", line 844, in sklearn.neighbors._ball_tree.BinaryTree.__init__\n",
            "  File \"sklearn\\metrics\\_dist_metrics.pyx\", line 287, in sklearn.metrics._dist_metrics.DistanceMetric.get_metric\n",
            "  File \"sklearn\\metrics\\_dist_metrics.pyx\", line 1439, in sklearn.metrics._dist_metrics.WMinkowskiDistance.__init__\n",
            "TypeError: __init__() takes exactly 2 positional arguments (1 given)\n",
            "\n",
            "--------------------------------------------------------------------------------\n",
            "20 fits failed with the following error:\n",
            "Traceback (most recent call last):\n",
            "  File \"c:\\Users\\Glen Kusuma\\miniconda3\\envs\\ildat-diabetes-prediction\\lib\\site-packages\\sklearn\\model_selection\\_validation.py\", line 686, in _fit_and_score\n",
            "    estimator.fit(X_train, y_train, **fit_params)\n",
            "  File \"c:\\Users\\Glen Kusuma\\miniconda3\\envs\\ildat-diabetes-prediction\\lib\\site-packages\\sklearn\\neighbors\\_classification.py\", line 215, in fit\n",
            "    return self._fit(X, y)\n",
            "  File \"c:\\Users\\Glen Kusuma\\miniconda3\\envs\\ildat-diabetes-prediction\\lib\\site-packages\\sklearn\\neighbors\\_base.py\", line 646, in _fit\n",
            "    self._tree = BallTree(\n",
            "  File \"sklearn\\neighbors\\_binary_tree.pxi\", line 844, in sklearn.neighbors._ball_tree.BinaryTree.__init__\n",
            "  File \"sklearn\\metrics\\_dist_metrics.pyx\", line 287, in sklearn.metrics._dist_metrics.DistanceMetric.get_metric\n",
            "  File \"sklearn\\metrics\\_dist_metrics.pyx\", line 948, in sklearn.metrics._dist_metrics.SEuclideanDistance.__init__\n",
            "TypeError: __init__() takes exactly 1 positional argument (0 given)\n",
            "\n",
            "  warnings.warn(some_fits_failed_message, FitFailedWarning)\n",
            "c:\\Users\\Glen Kusuma\\miniconda3\\envs\\ildat-diabetes-prediction\\lib\\site-packages\\sklearn\\model_selection\\_search.py:952: UserWarning: One or more of the test scores are non-finite: [0.96705827 0.97338223 0.96005287 0.97139236 0.96998852 0.97625796\n",
            " 0.96262877 0.97419996 0.96227442 0.96870741 0.95629121 0.96724908\n",
            " 0.96705827 0.97338223 0.96005287 0.97139236        nan        nan\n",
            "        nan        nan        nan        nan        nan        nan]\n",
            "  warnings.warn(\n"
          ]
        },
        {
          "name": "stdout",
          "output_type": "stream",
          "text": [
            "parameter terbaik: {'metric': 'manhattan', 'n_neighbors': 3, 'weights': 'distance'}\n",
            "KNeighborsClassifier(metric='manhattan', n_neighbors=3, weights='distance')\n"
          ]
        }
      ],
      "source": [
        "# isi jawaban parameter \n",
        "from sklearn.model_selection import GridSearchCV\n",
        "from sklearn.tree import DecisionTreeClassifier\n",
        "from sklearn.experimental import enable_halving_search_cv # noqa\n",
        "from sklearn.model_selection import HalvingGridSearchCV\n",
        "\n",
        "# defining parameter range \n",
        "param_grid = [\n",
        "    # {'weights':['uniform','distance'], 'n_neighbors':[3,5,7,9,11,13,15], 'metric':['euclidean','manhattan','chebyshev','minkowski','wminkowski','seuclidean']}\n",
        "    {'weights':['uniform','distance'], 'n_neighbors':[3,5], 'metric':['euclidean','manhattan','chebyshev','minkowski','wminkowski','seuclidean']}\n",
        "    #{'C': [1, 10, 100, 1000], 'kernel': ['linear']},\n",
        "    #{'C': [1, 10, 100, 1000], 'gamma': [0.01, 0.001, 0.0001], 'kernel': ['rbf']},\n",
        "    #{'n_estimators': [50, 100, 150, 200], 'criterion':['gini', 'entropy'], 'max_depth':[5, 10, 15], 'min_samples_split':[0.1, 1.0, 10], 'min_samples_leaf':[0.1, 0.5, 5]}\n",
        "    # {'criterion':['gini', 'entropy'], 'max_depth':[5, 10, 15, None], 'min_samples_split':[0.1, 1.0, 10], 'min_samples_leaf':[0.1, 0.5, 5]}\n",
        "    #{'n_estimators': [50, 100, 150, 200],'learning_rate': [0.1,0.2,0.3],}\n",
        " ]\n",
        "\n",
        "#tolong perhatikan parameter scoring dan cv \n",
        "classifier_knn = GridSearchCV(KNeighborsClassifier(), param_grid, scoring='recall', cv=5, refit = True, verbose = 3) \n",
        "  \n",
        "# fitting the model for grid search \n",
        "classifier_knn.fit(X_train, y_train)\n",
        "\n",
        "# print best parameter after tuning \n",
        "print('parameter terbaik:',classifier_knn.best_params_) \n",
        "  \n",
        "# print how our model looks after hyper-parameter tuning \n",
        "print(classifier_knn.best_estimator_)"
      ]
    },
    {
      "cell_type": "code",
      "execution_count": 16,
      "metadata": {
        "colab": {
          "base_uri": "https://localhost:8080/"
        },
        "id": "_Tsn-INQTzUK",
        "outputId": "8158dcaf-0f68-4307-a6d4-53a1b743cd67"
      },
      "outputs": [
        {
          "name": "stdout",
          "output_type": "stream",
          "text": [
            "              precision    recall  f1-score   support\n",
            "\n",
            "           0       0.98      0.96      0.97     18472\n",
            "           1       0.96      0.98      0.97     18128\n",
            "\n",
            "    accuracy                           0.97     36600\n",
            "   macro avg       0.97      0.97      0.97     36600\n",
            "weighted avg       0.97      0.97      0.97     36600\n",
            "\n"
          ]
        }
      ],
      "source": [
        "from sklearn.metrics import classification_report\n",
        "\n",
        "predictions = classifier_knn.predict(X_test) \n",
        "\n",
        "# print classification report \n",
        "print(classification_report(y_test, predictions))"
      ]
    },
    {
      "cell_type": "code",
      "execution_count": 17,
      "metadata": {
        "colab": {
          "base_uri": "https://localhost:8080/"
        },
        "id": "8ikhWoxsT8eJ",
        "outputId": "4f413c60-4180-4fa9-ca88-ab60dc42df06"
      },
      "outputs": [
        {
          "name": "stdout",
          "output_type": "stream",
          "text": [
            "Model validation accuracy: 98.16%\n"
          ]
        }
      ],
      "source": [
        "print(\"Model validation accuracy: %.2f%%\" % (classifier_knn.score(X_test, y_test) * 100))"
      ]
    },
    {
      "cell_type": "code",
      "execution_count": 18,
      "metadata": {
        "colab": {
          "base_uri": "https://localhost:8080/",
          "height": 476
        },
        "id": "GIk82CIRdjF8",
        "outputId": "39a0b897-338a-404e-cc88-9f69a08b33bd"
      },
      "outputs": [
        {
          "data": {
            "text/plain": [
              "<sklearn.metrics._plot.confusion_matrix.ConfusionMatrixDisplay at 0x1f59c5ee3b0>"
            ]
          },
          "execution_count": 18,
          "metadata": {},
          "output_type": "execute_result"
        },
        {
          "data": {
            "image/png": "[encoded data removed]",
            "text/plain": [
              "<Figure size 640x480 with 2 Axes>"
            ]
          },
          "metadata": {},
          "output_type": "display_data"
        }
      ],
      "source": [
        "# plot confusion matrix\n",
        "from sklearn.metrics import confusion_matrix, ConfusionMatrixDisplay\n",
        "\n",
        "predictions = classifier_knn.predict(X_test)\n",
        "cm = confusion_matrix(y_test, predictions, labels=classifier_knn.classes_)\n",
        "disp = ConfusionMatrixDisplay(cm, display_labels=classifier_knn.classes_)\n",
        "disp.plot()"
      ]
    },
    {
      "cell_type": "code",
      "execution_count": 19,
      "metadata": {
        "colab": {
          "base_uri": "https://localhost:8080/",
          "height": 240
        },
        "id": "58BZGobcy778",
        "outputId": "f3a3848f-6647-4da2-a219-61b2aea76427"
      },
      "outputs": [
        {
          "name": "stdout",
          "output_type": "stream",
          "text": [
            "KNeighborsClassifier(metric='manhattan', n_neighbors=3, weights='distance')\n",
            "Hasil model menggunakan model yang sudah disimpan: 0.9726502732240437\n",
            "Hasil model menggunakan model hasil training langsung: 0.9815754633715799\n"
          ]
        }
      ],
      "source": [
        "import joblib\n",
        "\n",
        "# save the model to disk\n",
        "filename = '../model/diabetes_prediction_classification_model.sav'\n",
        "joblib.dump(classifier_knn.best_estimator_, filename)\n",
        "\n",
        "# load the model from disk\n",
        "loaded_model = joblib.load(filename)\n",
        "print(loaded_model)\n",
        "#result = loaded_model.score(X_test, y_test)\n",
        "print('Hasil model menggunakan model yang sudah disimpan:', loaded_model.score(X_test, y_test))\n",
        "print('Hasil model menggunakan model hasil training langsung:', classifier_knn.score(X_test, y_test))"
      ]
    },
    {
      "attachments": {},
      "cell_type": "markdown",
      "metadata": {
        "id": "ZFYNkfw2LXIC"
      },
      "source": [
        "# Grid Search untuk Klasifikasi - Decision Tree"
      ]
    },
    {
      "cell_type": "code",
      "execution_count": null,
      "metadata": {
        "colab": {
          "base_uri": "https://localhost:8080/"
        },
        "id": "YIi-uqK9LUf1",
        "outputId": "26e9896f-a802-49af-a357-8d77789a8931"
      },
      "outputs": [
        {
          "name": "stdout",
          "output_type": "stream",
          "text": [
            "Fitting 5 folds for each of 72 candidates, totalling 360 fits\n",
            "[CV 1/5] END criterion=gini, max_depth=5, min_samples_leaf=0.1, min_samples_split=0.1;, score=0.743 total time=   0.2s\n",
            "[CV 2/5] END criterion=gini, max_depth=5, min_samples_leaf=0.1, min_samples_split=0.1;, score=0.742 total time=   0.2s\n",
            "[CV 3/5] END criterion=gini, max_depth=5, min_samples_leaf=0.1, min_samples_split=0.1;, score=0.739 total time=   0.2s\n",
            "[CV 4/5] END criterion=gini, max_depth=5, min_samples_leaf=0.1, min_samples_split=0.1;, score=0.742 total time=   0.2s\n",
            "[CV 5/5] END criterion=gini, max_depth=5, min_samples_leaf=0.1, min_samples_split=0.1;, score=0.750 total time=   0.2s\n",
            "[CV 1/5] END criterion=gini, max_depth=5, min_samples_leaf=0.1, min_samples_split=1.0;, score=0.487 total time=   0.1s\n",
            "[CV 2/5] END criterion=gini, max_depth=5, min_samples_leaf=0.1, min_samples_split=1.0;, score=0.494 total time=   0.1s\n",
            "[CV 3/5] END criterion=gini, max_depth=5, min_samples_leaf=0.1, min_samples_split=1.0;, score=0.490 total time=   0.1s\n",
            "[CV 4/5] END criterion=gini, max_depth=5, min_samples_leaf=0.1, min_samples_split=1.0;, score=0.490 total time=   0.1s\n",
            "[CV 5/5] END criterion=gini, max_depth=5, min_samples_leaf=0.1, min_samples_split=1.0;, score=0.499 total time=   0.1s\n",
            "[CV 1/5] END criterion=gini, max_depth=5, min_samples_leaf=0.1, min_samples_split=10;, score=0.743 total time=   0.3s\n",
            "[CV 2/5] END criterion=gini, max_depth=5, min_samples_leaf=0.1, min_samples_split=10;, score=0.742 total time=   0.3s\n",
            "[CV 3/5] END criterion=gini, max_depth=5, min_samples_leaf=0.1, min_samples_split=10;, score=0.739 total time=   0.3s\n",
            "[CV 4/5] END criterion=gini, max_depth=5, min_samples_leaf=0.1, min_samples_split=10;, score=0.742 total time=   0.3s\n",
            "[CV 5/5] END criterion=gini, max_depth=5, min_samples_leaf=0.1, min_samples_split=10;, score=0.750 total time=   0.3s\n",
            "[CV 1/5] END criterion=gini, max_depth=5, min_samples_leaf=0.5, min_samples_split=0.1;, score=0.739 total time=   0.1s\n",
            "[CV 2/5] END criterion=gini, max_depth=5, min_samples_leaf=0.5, min_samples_split=0.1;, score=0.748 total time=   0.1s\n",
            "[CV 3/5] END criterion=gini, max_depth=5, min_samples_leaf=0.5, min_samples_split=0.1;, score=0.743 total time=   0.1s\n",
            "[CV 4/5] END criterion=gini, max_depth=5, min_samples_leaf=0.5, min_samples_split=0.1;, score=0.748 total time=   0.1s\n",
            "[CV 5/5] END criterion=gini, max_depth=5, min_samples_leaf=0.5, min_samples_split=0.1;, score=0.750 total time=   0.1s\n",
            "[CV 1/5] END criterion=gini, max_depth=5, min_samples_leaf=0.5, min_samples_split=1.0;, score=0.739 total time=   0.1s\n",
            "[CV 2/5] END criterion=gini, max_depth=5, min_samples_leaf=0.5, min_samples_split=1.0;, score=0.748 total time=   0.1s\n",
            "[CV 3/5] END criterion=gini, max_depth=5, min_samples_leaf=0.5, min_samples_split=1.0;, score=0.743 total time=   0.1s\n",
            "[CV 4/5] END criterion=gini, max_depth=5, min_samples_leaf=0.5, min_samples_split=1.0;, score=0.748 total time=   0.1s\n",
            "[CV 5/5] END criterion=gini, max_depth=5, min_samples_leaf=0.5, min_samples_split=1.0;, score=0.750 total time=   0.1s\n",
            "[CV 1/5] END criterion=gini, max_depth=5, min_samples_leaf=0.5, min_samples_split=10;, score=0.739 total time=   0.1s\n",
            "[CV 2/5] END criterion=gini, max_depth=5, min_samples_leaf=0.5, min_samples_split=10;, score=0.748 total time=   0.1s\n",
            "[CV 3/5] END criterion=gini, max_depth=5, min_samples_leaf=0.5, min_samples_split=10;, score=0.743 total time=   0.1s\n",
            "[CV 4/5] END criterion=gini, max_depth=5, min_samples_leaf=0.5, min_samples_split=10;, score=0.748 total time=   0.1s\n",
            "[CV 5/5] END criterion=gini, max_depth=5, min_samples_leaf=0.5, min_samples_split=10;, score=0.750 total time=   0.1s\n",
            "[CV 1/5] END criterion=gini, max_depth=5, min_samples_leaf=5, min_samples_split=0.1;, score=0.950 total time=   0.3s\n",
            "[CV 2/5] END criterion=gini, max_depth=5, min_samples_leaf=5, min_samples_split=0.1;, score=0.950 total time=   0.3s\n",
            "[CV 3/5] END criterion=gini, max_depth=5, min_samples_leaf=5, min_samples_split=0.1;, score=0.955 total time=   0.2s\n",
            "[CV 4/5] END criterion=gini, max_depth=5, min_samples_leaf=5, min_samples_split=0.1;, score=0.955 total time=   0.2s\n",
            "[CV 5/5] END criterion=gini, max_depth=5, min_samples_leaf=5, min_samples_split=0.1;, score=0.960 total time=   0.2s\n",
            "[CV 1/5] END criterion=gini, max_depth=5, min_samples_leaf=5, min_samples_split=1.0;, score=0.487 total time=   0.1s\n",
            "[CV 2/5] END criterion=gini, max_depth=5, min_samples_leaf=5, min_samples_split=1.0;, score=0.494 total time=   0.1s\n",
            "[CV 3/5] END criterion=gini, max_depth=5, min_samples_leaf=5, min_samples_split=1.0;, score=0.490 total time=   0.1s\n",
            "[CV 4/5] END criterion=gini, max_depth=5, min_samples_leaf=5, min_samples_split=1.0;, score=0.490 total time=   0.1s\n",
            "[CV 5/5] END criterion=gini, max_depth=5, min_samples_leaf=5, min_samples_split=1.0;, score=0.499 total time=   0.1s\n",
            "[CV 1/5] END criterion=gini, max_depth=5, min_samples_leaf=5, min_samples_split=10;, score=0.950 total time=   0.2s\n",
            "[CV 2/5] END criterion=gini, max_depth=5, min_samples_leaf=5, min_samples_split=10;, score=0.950 total time=   0.2s\n",
            "[CV 3/5] END criterion=gini, max_depth=5, min_samples_leaf=5, min_samples_split=10;, score=0.955 total time=   0.2s\n",
            "[CV 4/5] END criterion=gini, max_depth=5, min_samples_leaf=5, min_samples_split=10;, score=0.955 total time=   0.2s\n",
            "[CV 5/5] END criterion=gini, max_depth=5, min_samples_leaf=5, min_samples_split=10;, score=0.960 total time=   0.2s\n",
            "[CV 1/5] END criterion=gini, max_depth=10, min_samples_leaf=0.1, min_samples_split=0.1;, score=0.743 total time=   0.2s\n",
            "[CV 2/5] END criterion=gini, max_depth=10, min_samples_leaf=0.1, min_samples_split=0.1;, score=0.742 total time=   0.2s\n",
            "[CV 3/5] END criterion=gini, max_depth=10, min_samples_leaf=0.1, min_samples_split=0.1;, score=0.739 total time=   0.2s\n",
            "[CV 4/5] END criterion=gini, max_depth=10, min_samples_leaf=0.1, min_samples_split=0.1;, score=0.742 total time=   0.2s\n",
            "[CV 5/5] END criterion=gini, max_depth=10, min_samples_leaf=0.1, min_samples_split=0.1;, score=0.750 total time=   0.2s\n",
            "[CV 1/5] END criterion=gini, max_depth=10, min_samples_leaf=0.1, min_samples_split=1.0;, score=0.487 total time=   0.1s\n",
            "[CV 2/5] END criterion=gini, max_depth=10, min_samples_leaf=0.1, min_samples_split=1.0;, score=0.494 total time=   0.1s\n",
            "[CV 3/5] END criterion=gini, max_depth=10, min_samples_leaf=0.1, min_samples_split=1.0;, score=0.490 total time=   0.1s\n",
            "[CV 4/5] END criterion=gini, max_depth=10, min_samples_leaf=0.1, min_samples_split=1.0;, score=0.490 total time=   0.1s\n",
            "[CV 5/5] END criterion=gini, max_depth=10, min_samples_leaf=0.1, min_samples_split=1.0;, score=0.499 total time=   0.1s\n",
            "[CV 1/5] END criterion=gini, max_depth=10, min_samples_leaf=0.1, min_samples_split=10;, score=0.743 total time=   0.2s\n",
            "[CV 2/5] END criterion=gini, max_depth=10, min_samples_leaf=0.1, min_samples_split=10;, score=0.742 total time=   0.2s\n",
            "[CV 3/5] END criterion=gini, max_depth=10, min_samples_leaf=0.1, min_samples_split=10;, score=0.739 total time=   0.2s\n",
            "[CV 4/5] END criterion=gini, max_depth=10, min_samples_leaf=0.1, min_samples_split=10;, score=0.742 total time=   0.2s\n",
            "[CV 5/5] END criterion=gini, max_depth=10, min_samples_leaf=0.1, min_samples_split=10;, score=0.750 total time=   0.2s\n",
            "[CV 1/5] END criterion=gini, max_depth=10, min_samples_leaf=0.5, min_samples_split=0.1;, score=0.739 total time=   0.1s\n",
            "[CV 2/5] END criterion=gini, max_depth=10, min_samples_leaf=0.5, min_samples_split=0.1;, score=0.748 total time=   0.1s\n",
            "[CV 3/5] END criterion=gini, max_depth=10, min_samples_leaf=0.5, min_samples_split=0.1;, score=0.743 total time=   0.1s\n",
            "[CV 4/5] END criterion=gini, max_depth=10, min_samples_leaf=0.5, min_samples_split=0.1;, score=0.748 total time=   0.1s\n",
            "[CV 5/5] END criterion=gini, max_depth=10, min_samples_leaf=0.5, min_samples_split=0.1;, score=0.750 total time=   0.1s\n",
            "[CV 1/5] END criterion=gini, max_depth=10, min_samples_leaf=0.5, min_samples_split=1.0;, score=0.739 total time=   0.1s\n",
            "[CV 2/5] END criterion=gini, max_depth=10, min_samples_leaf=0.5, min_samples_split=1.0;, score=0.748 total time=   0.1s\n",
            "[CV 3/5] END criterion=gini, max_depth=10, min_samples_leaf=0.5, min_samples_split=1.0;, score=0.743 total time=   0.1s\n",
            "[CV 4/5] END criterion=gini, max_depth=10, min_samples_leaf=0.5, min_samples_split=1.0;, score=0.748 total time=   0.1s\n",
            "[CV 5/5] END criterion=gini, max_depth=10, min_samples_leaf=0.5, min_samples_split=1.0;, score=0.750 total time=   0.1s\n",
            "[CV 1/5] END criterion=gini, max_depth=10, min_samples_leaf=0.5, min_samples_split=10;, score=0.739 total time=   0.1s\n",
            "[CV 2/5] END criterion=gini, max_depth=10, min_samples_leaf=0.5, min_samples_split=10;, score=0.748 total time=   0.1s\n",
            "[CV 3/5] END criterion=gini, max_depth=10, min_samples_leaf=0.5, min_samples_split=10;, score=0.743 total time=   0.1s\n",
            "[CV 4/5] END criterion=gini, max_depth=10, min_samples_leaf=0.5, min_samples_split=10;, score=0.748 total time=   0.1s\n",
            "[CV 5/5] END criterion=gini, max_depth=10, min_samples_leaf=0.5, min_samples_split=10;, score=0.750 total time=   0.1s\n",
            "[CV 1/5] END criterion=gini, max_depth=10, min_samples_leaf=5, min_samples_split=0.1;, score=0.906 total time=   0.2s\n",
            "[CV 2/5] END criterion=gini, max_depth=10, min_samples_leaf=5, min_samples_split=0.1;, score=0.902 total time=   0.2s\n",
            "[CV 3/5] END criterion=gini, max_depth=10, min_samples_leaf=5, min_samples_split=0.1;, score=0.907 total time=   0.2s\n",
            "[CV 4/5] END criterion=gini, max_depth=10, min_samples_leaf=5, min_samples_split=0.1;, score=0.908 total time=   0.3s\n",
            "[CV 5/5] END criterion=gini, max_depth=10, min_samples_leaf=5, min_samples_split=0.1;, score=0.916 total time=   0.3s\n",
            "[CV 1/5] END criterion=gini, max_depth=10, min_samples_leaf=5, min_samples_split=1.0;, score=0.487 total time=   0.1s\n",
            "[CV 2/5] END criterion=gini, max_depth=10, min_samples_leaf=5, min_samples_split=1.0;, score=0.494 total time=   0.1s\n",
            "[CV 3/5] END criterion=gini, max_depth=10, min_samples_leaf=5, min_samples_split=1.0;, score=0.490 total time=   0.1s\n",
            "[CV 4/5] END criterion=gini, max_depth=10, min_samples_leaf=5, min_samples_split=1.0;, score=0.490 total time=   0.1s\n",
            "[CV 5/5] END criterion=gini, max_depth=10, min_samples_leaf=5, min_samples_split=1.0;, score=0.499 total time=   0.1s\n",
            "[CV 1/5] END criterion=gini, max_depth=10, min_samples_leaf=5, min_samples_split=10;, score=0.894 total time=   0.3s\n",
            "[CV 2/5] END criterion=gini, max_depth=10, min_samples_leaf=5, min_samples_split=10;, score=0.931 total time=   0.3s\n",
            "[CV 3/5] END criterion=gini, max_depth=10, min_samples_leaf=5, min_samples_split=10;, score=0.901 total time=   0.3s\n",
            "[CV 4/5] END criterion=gini, max_depth=10, min_samples_leaf=5, min_samples_split=10;, score=0.899 total time=   0.3s\n",
            "[CV 5/5] END criterion=gini, max_depth=10, min_samples_leaf=5, min_samples_split=10;, score=0.898 total time=   0.3s\n",
            "[CV 1/5] END criterion=gini, max_depth=15, min_samples_leaf=0.1, min_samples_split=0.1;, score=0.743 total time=   0.2s\n",
            "[CV 2/5] END criterion=gini, max_depth=15, min_samples_leaf=0.1, min_samples_split=0.1;, score=0.742 total time=   0.2s\n",
            "[CV 3/5] END criterion=gini, max_depth=15, min_samples_leaf=0.1, min_samples_split=0.1;, score=0.739 total time=   0.2s\n",
            "[CV 4/5] END criterion=gini, max_depth=15, min_samples_leaf=0.1, min_samples_split=0.1;, score=0.742 total time=   0.2s\n",
            "[CV 5/5] END criterion=gini, max_depth=15, min_samples_leaf=0.1, min_samples_split=0.1;, score=0.750 total time=   0.2s\n",
            "[CV 1/5] END criterion=gini, max_depth=15, min_samples_leaf=0.1, min_samples_split=1.0;, score=0.487 total time=   0.1s\n",
            "[CV 2/5] END criterion=gini, max_depth=15, min_samples_leaf=0.1, min_samples_split=1.0;, score=0.494 total time=   0.1s\n",
            "[CV 3/5] END criterion=gini, max_depth=15, min_samples_leaf=0.1, min_samples_split=1.0;, score=0.490 total time=   0.1s\n",
            "[CV 4/5] END criterion=gini, max_depth=15, min_samples_leaf=0.1, min_samples_split=1.0;, score=0.490 total time=   0.1s\n",
            "[CV 5/5] END criterion=gini, max_depth=15, min_samples_leaf=0.1, min_samples_split=1.0;, score=0.499 total time=   0.1s\n",
            "[CV 1/5] END criterion=gini, max_depth=15, min_samples_leaf=0.1, min_samples_split=10;, score=0.743 total time=   0.3s\n",
            "[CV 2/5] END criterion=gini, max_depth=15, min_samples_leaf=0.1, min_samples_split=10;, score=0.742 total time=   0.3s\n",
            "[CV 3/5] END criterion=gini, max_depth=15, min_samples_leaf=0.1, min_samples_split=10;, score=0.739 total time=   0.3s\n",
            "[CV 4/5] END criterion=gini, max_depth=15, min_samples_leaf=0.1, min_samples_split=10;, score=0.742 total time=   0.3s\n",
            "[CV 5/5] END criterion=gini, max_depth=15, min_samples_leaf=0.1, min_samples_split=10;, score=0.750 total time=   0.3s\n",
            "[CV 1/5] END criterion=gini, max_depth=15, min_samples_leaf=0.5, min_samples_split=0.1;, score=0.739 total time=   0.1s\n",
            "[CV 2/5] END criterion=gini, max_depth=15, min_samples_leaf=0.5, min_samples_split=0.1;, score=0.748 total time=   0.1s\n",
            "[CV 3/5] END criterion=gini, max_depth=15, min_samples_leaf=0.5, min_samples_split=0.1;, score=0.743 total time=   0.1s\n",
            "[CV 4/5] END criterion=gini, max_depth=15, min_samples_leaf=0.5, min_samples_split=0.1;, score=0.748 total time=   0.1s\n",
            "[CV 5/5] END criterion=gini, max_depth=15, min_samples_leaf=0.5, min_samples_split=0.1;, score=0.750 total time=   0.1s\n",
            "[CV 1/5] END criterion=gini, max_depth=15, min_samples_leaf=0.5, min_samples_split=1.0;, score=0.739 total time=   0.1s\n",
            "[CV 2/5] END criterion=gini, max_depth=15, min_samples_leaf=0.5, min_samples_split=1.0;, score=0.748 total time=   0.1s\n",
            "[CV 3/5] END criterion=gini, max_depth=15, min_samples_leaf=0.5, min_samples_split=1.0;, score=0.743 total time=   0.1s\n",
            "[CV 4/5] END criterion=gini, max_depth=15, min_samples_leaf=0.5, min_samples_split=1.0;, score=0.748 total time=   0.1s\n",
            "[CV 5/5] END criterion=gini, max_depth=15, min_samples_leaf=0.5, min_samples_split=1.0;, score=0.750 total time=   0.1s\n",
            "[CV 1/5] END criterion=gini, max_depth=15, min_samples_leaf=0.5, min_samples_split=10;, score=0.739 total time=   0.1s\n",
            "[CV 2/5] END criterion=gini, max_depth=15, min_samples_leaf=0.5, min_samples_split=10;, score=0.748 total time=   0.1s\n",
            "[CV 3/5] END criterion=gini, max_depth=15, min_samples_leaf=0.5, min_samples_split=10;, score=0.743 total time=   0.1s\n",
            "[CV 4/5] END criterion=gini, max_depth=15, min_samples_leaf=0.5, min_samples_split=10;, score=0.748 total time=   0.1s\n",
            "[CV 5/5] END criterion=gini, max_depth=15, min_samples_leaf=0.5, min_samples_split=10;, score=0.750 total time=   0.1s\n",
            "[CV 1/5] END criterion=gini, max_depth=15, min_samples_leaf=5, min_samples_split=0.1;, score=0.906 total time=   0.4s\n",
            "[CV 2/5] END criterion=gini, max_depth=15, min_samples_leaf=5, min_samples_split=0.1;, score=0.902 total time=   0.4s\n",
            "[CV 3/5] END criterion=gini, max_depth=15, min_samples_leaf=5, min_samples_split=0.1;, score=0.907 total time=   0.3s\n",
            "[CV 4/5] END criterion=gini, max_depth=15, min_samples_leaf=5, min_samples_split=0.1;, score=0.908 total time=   0.3s\n",
            "[CV 5/5] END criterion=gini, max_depth=15, min_samples_leaf=5, min_samples_split=0.1;, score=0.916 total time=   0.2s\n",
            "[CV 1/5] END criterion=gini, max_depth=15, min_samples_leaf=5, min_samples_split=1.0;, score=0.487 total time=   0.1s\n",
            "[CV 2/5] END criterion=gini, max_depth=15, min_samples_leaf=5, min_samples_split=1.0;, score=0.494 total time=   0.1s\n",
            "[CV 3/5] END criterion=gini, max_depth=15, min_samples_leaf=5, min_samples_split=1.0;, score=0.490 total time=   0.1s\n",
            "[CV 4/5] END criterion=gini, max_depth=15, min_samples_leaf=5, min_samples_split=1.0;, score=0.490 total time=   0.1s\n",
            "[CV 5/5] END criterion=gini, max_depth=15, min_samples_leaf=5, min_samples_split=1.0;, score=0.499 total time=   0.1s\n",
            "[CV 1/5] END criterion=gini, max_depth=15, min_samples_leaf=5, min_samples_split=10;, score=0.937 total time=   0.3s\n",
            "[CV 2/5] END criterion=gini, max_depth=15, min_samples_leaf=5, min_samples_split=10;, score=0.939 total time=   0.3s\n",
            "[CV 3/5] END criterion=gini, max_depth=15, min_samples_leaf=5, min_samples_split=10;, score=0.939 total time=   0.3s\n",
            "[CV 4/5] END criterion=gini, max_depth=15, min_samples_leaf=5, min_samples_split=10;, score=0.936 total time=   0.3s\n",
            "[CV 5/5] END criterion=gini, max_depth=15, min_samples_leaf=5, min_samples_split=10;, score=0.932 total time=   0.3s\n",
            "[CV 1/5] END criterion=gini, max_depth=None, min_samples_leaf=0.1, min_samples_split=0.1;, score=0.743 total time=   0.2s\n",
            "[CV 2/5] END criterion=gini, max_depth=None, min_samples_leaf=0.1, min_samples_split=0.1;, score=0.742 total time=   0.2s\n",
            "[CV 3/5] END criterion=gini, max_depth=None, min_samples_leaf=0.1, min_samples_split=0.1;, score=0.739 total time=   0.2s\n",
            "[CV 4/5] END criterion=gini, max_depth=None, min_samples_leaf=0.1, min_samples_split=0.1;, score=0.742 total time=   0.2s\n",
            "[CV 5/5] END criterion=gini, max_depth=None, min_samples_leaf=0.1, min_samples_split=0.1;, score=0.750 total time=   0.2s\n",
            "[CV 1/5] END criterion=gini, max_depth=None, min_samples_leaf=0.1, min_samples_split=1.0;, score=0.487 total time=   0.1s\n",
            "[CV 2/5] END criterion=gini, max_depth=None, min_samples_leaf=0.1, min_samples_split=1.0;, score=0.494 total time=   0.1s\n",
            "[CV 3/5] END criterion=gini, max_depth=None, min_samples_leaf=0.1, min_samples_split=1.0;, score=0.490 total time=   0.1s\n",
            "[CV 4/5] END criterion=gini, max_depth=None, min_samples_leaf=0.1, min_samples_split=1.0;, score=0.490 total time=   0.1s\n",
            "[CV 5/5] END criterion=gini, max_depth=None, min_samples_leaf=0.1, min_samples_split=1.0;, score=0.499 total time=   0.1s\n",
            "[CV 1/5] END criterion=gini, max_depth=None, min_samples_leaf=0.1, min_samples_split=10;, score=0.743 total time=   0.2s\n",
            "[CV 2/5] END criterion=gini, max_depth=None, min_samples_leaf=0.1, min_samples_split=10;, score=0.742 total time=   0.2s\n",
            "[CV 3/5] END criterion=gini, max_depth=None, min_samples_leaf=0.1, min_samples_split=10;, score=0.739 total time=   0.2s\n",
            "[CV 4/5] END criterion=gini, max_depth=None, min_samples_leaf=0.1, min_samples_split=10;, score=0.742 total time=   0.2s\n",
            "[CV 5/5] END criterion=gini, max_depth=None, min_samples_leaf=0.1, min_samples_split=10;, score=0.750 total time=   0.2s\n",
            "[CV 1/5] END criterion=gini, max_depth=None, min_samples_leaf=0.5, min_samples_split=0.1;, score=0.739 total time=   0.1s\n",
            "[CV 2/5] END criterion=gini, max_depth=None, min_samples_leaf=0.5, min_samples_split=0.1;, score=0.748 total time=   0.1s\n",
            "[CV 3/5] END criterion=gini, max_depth=None, min_samples_leaf=0.5, min_samples_split=0.1;, score=0.743 total time=   0.1s\n",
            "[CV 4/5] END criterion=gini, max_depth=None, min_samples_leaf=0.5, min_samples_split=0.1;, score=0.748 total time=   0.1s\n",
            "[CV 5/5] END criterion=gini, max_depth=None, min_samples_leaf=0.5, min_samples_split=0.1;, score=0.750 total time=   0.1s\n",
            "[CV 1/5] END criterion=gini, max_depth=None, min_samples_leaf=0.5, min_samples_split=1.0;, score=0.739 total time=   0.1s\n",
            "[CV 2/5] END criterion=gini, max_depth=None, min_samples_leaf=0.5, min_samples_split=1.0;, score=0.748 total time=   0.1s\n",
            "[CV 3/5] END criterion=gini, max_depth=None, min_samples_leaf=0.5, min_samples_split=1.0;, score=0.743 total time=   0.1s\n",
            "[CV 4/5] END criterion=gini, max_depth=None, min_samples_leaf=0.5, min_samples_split=1.0;, score=0.748 total time=   0.1s\n",
            "[CV 5/5] END criterion=gini, max_depth=None, min_samples_leaf=0.5, min_samples_split=1.0;, score=0.750 total time=   0.1s\n",
            "[CV 1/5] END criterion=gini, max_depth=None, min_samples_leaf=0.5, min_samples_split=10;, score=0.739 total time=   0.1s\n",
            "[CV 2/5] END criterion=gini, max_depth=None, min_samples_leaf=0.5, min_samples_split=10;, score=0.748 total time=   0.1s\n",
            "[CV 3/5] END criterion=gini, max_depth=None, min_samples_leaf=0.5, min_samples_split=10;, score=0.743 total time=   0.1s\n",
            "[CV 4/5] END criterion=gini, max_depth=None, min_samples_leaf=0.5, min_samples_split=10;, score=0.748 total time=   0.1s\n",
            "[CV 5/5] END criterion=gini, max_depth=None, min_samples_leaf=0.5, min_samples_split=10;, score=0.750 total time=   0.1s\n",
            "[CV 1/5] END criterion=gini, max_depth=None, min_samples_leaf=5, min_samples_split=0.1;, score=0.906 total time=   0.3s\n",
            "[CV 2/5] END criterion=gini, max_depth=None, min_samples_leaf=5, min_samples_split=0.1;, score=0.902 total time=   0.2s\n",
            "[CV 3/5] END criterion=gini, max_depth=None, min_samples_leaf=5, min_samples_split=0.1;, score=0.907 total time=   0.2s\n",
            "[CV 4/5] END criterion=gini, max_depth=None, min_samples_leaf=5, min_samples_split=0.1;, score=0.908 total time=   0.2s\n",
            "[CV 5/5] END criterion=gini, max_depth=None, min_samples_leaf=5, min_samples_split=0.1;, score=0.916 total time=   0.3s\n",
            "[CV 1/5] END criterion=gini, max_depth=None, min_samples_leaf=5, min_samples_split=1.0;, score=0.487 total time=   0.1s\n",
            "[CV 2/5] END criterion=gini, max_depth=None, min_samples_leaf=5, min_samples_split=1.0;, score=0.494 total time=   0.1s\n",
            "[CV 3/5] END criterion=gini, max_depth=None, min_samples_leaf=5, min_samples_split=1.0;, score=0.490 total time=   0.1s\n",
            "[CV 4/5] END criterion=gini, max_depth=None, min_samples_leaf=5, min_samples_split=1.0;, score=0.490 total time=   0.1s\n",
            "[CV 5/5] END criterion=gini, max_depth=None, min_samples_leaf=5, min_samples_split=1.0;, score=0.499 total time=   0.1s\n",
            "[CV 1/5] END criterion=gini, max_depth=None, min_samples_leaf=5, min_samples_split=10;, score=0.963 total time=   0.3s\n",
            "[CV 2/5] END criterion=gini, max_depth=None, min_samples_leaf=5, min_samples_split=10;, score=0.966 total time=   0.4s\n",
            "[CV 3/5] END criterion=gini, max_depth=None, min_samples_leaf=5, min_samples_split=10;, score=0.961 total time=   0.4s\n",
            "[CV 4/5] END criterion=gini, max_depth=None, min_samples_leaf=5, min_samples_split=10;, score=0.965 total time=   0.3s\n",
            "[CV 5/5] END criterion=gini, max_depth=None, min_samples_leaf=5, min_samples_split=10;, score=0.966 total time=   0.4s\n",
            "[CV 1/5] END criterion=entropy, max_depth=5, min_samples_leaf=0.1, min_samples_split=0.1;, score=0.898 total time=   0.2s\n",
            "[CV 2/5] END criterion=entropy, max_depth=5, min_samples_leaf=0.1, min_samples_split=0.1;, score=0.884 total time=   0.3s\n",
            "[CV 3/5] END criterion=entropy, max_depth=5, min_samples_leaf=0.1, min_samples_split=0.1;, score=0.898 total time=   0.3s\n",
            "[CV 4/5] END criterion=entropy, max_depth=5, min_samples_leaf=0.1, min_samples_split=0.1;, score=0.899 total time=   0.3s\n",
            "[CV 5/5] END criterion=entropy, max_depth=5, min_samples_leaf=0.1, min_samples_split=0.1;, score=0.905 total time=   0.3s\n",
            "[CV 1/5] END criterion=entropy, max_depth=5, min_samples_leaf=0.1, min_samples_split=1.0;, score=0.487 total time=   0.2s\n",
            "[CV 2/5] END criterion=entropy, max_depth=5, min_samples_leaf=0.1, min_samples_split=1.0;, score=0.494 total time=   0.1s\n",
            "[CV 3/5] END criterion=entropy, max_depth=5, min_samples_leaf=0.1, min_samples_split=1.0;, score=0.490 total time=   0.1s\n",
            "[CV 4/5] END criterion=entropy, max_depth=5, min_samples_leaf=0.1, min_samples_split=1.0;, score=0.490 total time=   0.2s\n",
            "[CV 5/5] END criterion=entropy, max_depth=5, min_samples_leaf=0.1, min_samples_split=1.0;, score=0.499 total time=   0.1s\n",
            "[CV 1/5] END criterion=entropy, max_depth=5, min_samples_leaf=0.1, min_samples_split=10;, score=0.898 total time=   0.3s\n",
            "[CV 2/5] END criterion=entropy, max_depth=5, min_samples_leaf=0.1, min_samples_split=10;, score=0.884 total time=   0.3s\n",
            "[CV 3/5] END criterion=entropy, max_depth=5, min_samples_leaf=0.1, min_samples_split=10;, score=0.898 total time=   0.3s\n",
            "[CV 4/5] END criterion=entropy, max_depth=5, min_samples_leaf=0.1, min_samples_split=10;, score=0.899 total time=   0.3s\n",
            "[CV 5/5] END criterion=entropy, max_depth=5, min_samples_leaf=0.1, min_samples_split=10;, score=0.905 total time=   0.3s\n",
            "[CV 1/5] END criterion=entropy, max_depth=5, min_samples_leaf=0.5, min_samples_split=0.1;, score=0.739 total time=   0.1s\n",
            "[CV 2/5] END criterion=entropy, max_depth=5, min_samples_leaf=0.5, min_samples_split=0.1;, score=0.748 total time=   0.1s\n",
            "[CV 3/5] END criterion=entropy, max_depth=5, min_samples_leaf=0.5, min_samples_split=0.1;, score=0.743 total time=   0.1s\n",
            "[CV 4/5] END criterion=entropy, max_depth=5, min_samples_leaf=0.5, min_samples_split=0.1;, score=0.748 total time=   0.1s\n",
            "[CV 5/5] END criterion=entropy, max_depth=5, min_samples_leaf=0.5, min_samples_split=0.1;, score=0.750 total time=   0.1s\n",
            "[CV 1/5] END criterion=entropy, max_depth=5, min_samples_leaf=0.5, min_samples_split=1.0;, score=0.739 total time=   0.1s\n",
            "[CV 2/5] END criterion=entropy, max_depth=5, min_samples_leaf=0.5, min_samples_split=1.0;, score=0.748 total time=   0.1s\n",
            "[CV 3/5] END criterion=entropy, max_depth=5, min_samples_leaf=0.5, min_samples_split=1.0;, score=0.743 total time=   0.1s\n",
            "[CV 4/5] END criterion=entropy, max_depth=5, min_samples_leaf=0.5, min_samples_split=1.0;, score=0.748 total time=   0.1s\n",
            "[CV 5/5] END criterion=entropy, max_depth=5, min_samples_leaf=0.5, min_samples_split=1.0;, score=0.750 total time=   0.1s\n",
            "[CV 1/5] END criterion=entropy, max_depth=5, min_samples_leaf=0.5, min_samples_split=10;, score=0.739 total time=   0.1s\n",
            "[CV 2/5] END criterion=entropy, max_depth=5, min_samples_leaf=0.5, min_samples_split=10;, score=0.748 total time=   0.1s\n",
            "[CV 3/5] END criterion=entropy, max_depth=5, min_samples_leaf=0.5, min_samples_split=10;, score=0.743 total time=   0.1s\n",
            "[CV 4/5] END criterion=entropy, max_depth=5, min_samples_leaf=0.5, min_samples_split=10;, score=0.748 total time=   0.1s\n",
            "[CV 5/5] END criterion=entropy, max_depth=5, min_samples_leaf=0.5, min_samples_split=10;, score=0.750 total time=   0.1s\n",
            "[CV 1/5] END criterion=entropy, max_depth=5, min_samples_leaf=5, min_samples_split=0.1;, score=0.975 total time=   0.2s\n",
            "[CV 2/5] END criterion=entropy, max_depth=5, min_samples_leaf=5, min_samples_split=0.1;, score=0.965 total time=   0.2s\n",
            "[CV 3/5] END criterion=entropy, max_depth=5, min_samples_leaf=5, min_samples_split=0.1;, score=0.976 total time=   0.2s\n",
            "[CV 4/5] END criterion=entropy, max_depth=5, min_samples_leaf=5, min_samples_split=0.1;, score=0.975 total time=   0.2s\n",
            "[CV 5/5] END criterion=entropy, max_depth=5, min_samples_leaf=5, min_samples_split=0.1;, score=0.976 total time=   0.2s\n",
            "[CV 1/5] END criterion=entropy, max_depth=5, min_samples_leaf=5, min_samples_split=1.0;, score=0.487 total time=   0.1s\n",
            "[CV 2/5] END criterion=entropy, max_depth=5, min_samples_leaf=5, min_samples_split=1.0;, score=0.494 total time=   0.1s\n",
            "[CV 3/5] END criterion=entropy, max_depth=5, min_samples_leaf=5, min_samples_split=1.0;, score=0.490 total time=   0.1s\n",
            "[CV 4/5] END criterion=entropy, max_depth=5, min_samples_leaf=5, min_samples_split=1.0;, score=0.490 total time=   0.1s\n",
            "[CV 5/5] END criterion=entropy, max_depth=5, min_samples_leaf=5, min_samples_split=1.0;, score=0.499 total time=   0.1s\n",
            "[CV 1/5] END criterion=entropy, max_depth=5, min_samples_leaf=5, min_samples_split=10;, score=0.975 total time=   0.2s\n",
            "[CV 2/5] END criterion=entropy, max_depth=5, min_samples_leaf=5, min_samples_split=10;, score=0.965 total time=   0.2s\n",
            "[CV 3/5] END criterion=entropy, max_depth=5, min_samples_leaf=5, min_samples_split=10;, score=0.976 total time=   0.2s\n",
            "[CV 4/5] END criterion=entropy, max_depth=5, min_samples_leaf=5, min_samples_split=10;, score=0.975 total time=   0.2s\n",
            "[CV 5/5] END criterion=entropy, max_depth=5, min_samples_leaf=5, min_samples_split=10;, score=0.976 total time=   0.2s\n",
            "[CV 1/5] END criterion=entropy, max_depth=10, min_samples_leaf=0.1, min_samples_split=0.1;, score=0.898 total time=   0.2s\n",
            "[CV 2/5] END criterion=entropy, max_depth=10, min_samples_leaf=0.1, min_samples_split=0.1;, score=0.884 total time=   0.2s\n",
            "[CV 3/5] END criterion=entropy, max_depth=10, min_samples_leaf=0.1, min_samples_split=0.1;, score=0.898 total time=   0.2s\n",
            "[CV 4/5] END criterion=entropy, max_depth=10, min_samples_leaf=0.1, min_samples_split=0.1;, score=0.899 total time=   0.2s\n",
            "[CV 5/5] END criterion=entropy, max_depth=10, min_samples_leaf=0.1, min_samples_split=0.1;, score=0.905 total time=   0.2s\n",
            "[CV 1/5] END criterion=entropy, max_depth=10, min_samples_leaf=0.1, min_samples_split=1.0;, score=0.487 total time=   0.1s\n",
            "[CV 2/5] END criterion=entropy, max_depth=10, min_samples_leaf=0.1, min_samples_split=1.0;, score=0.494 total time=   0.1s\n",
            "[CV 3/5] END criterion=entropy, max_depth=10, min_samples_leaf=0.1, min_samples_split=1.0;, score=0.490 total time=   0.1s\n",
            "[CV 4/5] END criterion=entropy, max_depth=10, min_samples_leaf=0.1, min_samples_split=1.0;, score=0.490 total time=   0.1s\n",
            "[CV 5/5] END criterion=entropy, max_depth=10, min_samples_leaf=0.1, min_samples_split=1.0;, score=0.499 total time=   0.1s\n",
            "[CV 1/5] END criterion=entropy, max_depth=10, min_samples_leaf=0.1, min_samples_split=10;, score=0.898 total time=   0.2s\n",
            "[CV 2/5] END criterion=entropy, max_depth=10, min_samples_leaf=0.1, min_samples_split=10;, score=0.884 total time=   0.2s\n",
            "[CV 3/5] END criterion=entropy, max_depth=10, min_samples_leaf=0.1, min_samples_split=10;, score=0.898 total time=   0.2s\n",
            "[CV 4/5] END criterion=entropy, max_depth=10, min_samples_leaf=0.1, min_samples_split=10;, score=0.899 total time=   0.2s\n",
            "[CV 5/5] END criterion=entropy, max_depth=10, min_samples_leaf=0.1, min_samples_split=10;, score=0.905 total time=   0.2s\n",
            "[CV 1/5] END criterion=entropy, max_depth=10, min_samples_leaf=0.5, min_samples_split=0.1;, score=0.739 total time=   0.1s\n",
            "[CV 2/5] END criterion=entropy, max_depth=10, min_samples_leaf=0.5, min_samples_split=0.1;, score=0.748 total time=   0.1s\n",
            "[CV 3/5] END criterion=entropy, max_depth=10, min_samples_leaf=0.5, min_samples_split=0.1;, score=0.743 total time=   0.1s\n",
            "[CV 4/5] END criterion=entropy, max_depth=10, min_samples_leaf=0.5, min_samples_split=0.1;, score=0.748 total time=   0.1s\n",
            "[CV 5/5] END criterion=entropy, max_depth=10, min_samples_leaf=0.5, min_samples_split=0.1;, score=0.750 total time=   0.1s\n",
            "[CV 1/5] END criterion=entropy, max_depth=10, min_samples_leaf=0.5, min_samples_split=1.0;, score=0.739 total time=   0.1s\n",
            "[CV 2/5] END criterion=entropy, max_depth=10, min_samples_leaf=0.5, min_samples_split=1.0;, score=0.748 total time=   0.1s\n",
            "[CV 3/5] END criterion=entropy, max_depth=10, min_samples_leaf=0.5, min_samples_split=1.0;, score=0.743 total time=   0.1s\n",
            "[CV 4/5] END criterion=entropy, max_depth=10, min_samples_leaf=0.5, min_samples_split=1.0;, score=0.748 total time=   0.1s\n",
            "[CV 5/5] END criterion=entropy, max_depth=10, min_samples_leaf=0.5, min_samples_split=1.0;, score=0.750 total time=   0.1s\n",
            "[CV 1/5] END criterion=entropy, max_depth=10, min_samples_leaf=0.5, min_samples_split=10;, score=0.739 total time=   0.1s\n",
            "[CV 2/5] END criterion=entropy, max_depth=10, min_samples_leaf=0.5, min_samples_split=10;, score=0.748 total time=   0.1s\n",
            "[CV 3/5] END criterion=entropy, max_depth=10, min_samples_leaf=0.5, min_samples_split=10;, score=0.743 total time=   0.1s\n",
            "[CV 4/5] END criterion=entropy, max_depth=10, min_samples_leaf=0.5, min_samples_split=10;, score=0.748 total time=   0.1s\n",
            "[CV 5/5] END criterion=entropy, max_depth=10, min_samples_leaf=0.5, min_samples_split=10;, score=0.750 total time=   0.1s\n",
            "[CV 1/5] END criterion=entropy, max_depth=10, min_samples_leaf=5, min_samples_split=0.1;, score=0.919 total time=   0.3s\n",
            "[CV 2/5] END criterion=entropy, max_depth=10, min_samples_leaf=5, min_samples_split=0.1;, score=0.909 total time=   0.3s\n",
            "[CV 3/5] END criterion=entropy, max_depth=10, min_samples_leaf=5, min_samples_split=0.1;, score=0.917 total time=   0.3s\n",
            "[CV 4/5] END criterion=entropy, max_depth=10, min_samples_leaf=5, min_samples_split=0.1;, score=0.918 total time=   0.3s\n",
            "[CV 5/5] END criterion=entropy, max_depth=10, min_samples_leaf=5, min_samples_split=0.1;, score=0.925 total time=   0.3s\n",
            "[CV 1/5] END criterion=entropy, max_depth=10, min_samples_leaf=5, min_samples_split=1.0;, score=0.487 total time=   0.1s\n",
            "[CV 2/5] END criterion=entropy, max_depth=10, min_samples_leaf=5, min_samples_split=1.0;, score=0.494 total time=   0.1s\n",
            "[CV 3/5] END criterion=entropy, max_depth=10, min_samples_leaf=5, min_samples_split=1.0;, score=0.490 total time=   0.1s\n",
            "[CV 4/5] END criterion=entropy, max_depth=10, min_samples_leaf=5, min_samples_split=1.0;, score=0.490 total time=   0.1s\n",
            "[CV 5/5] END criterion=entropy, max_depth=10, min_samples_leaf=5, min_samples_split=1.0;, score=0.499 total time=   0.1s\n",
            "[CV 1/5] END criterion=entropy, max_depth=10, min_samples_leaf=5, min_samples_split=10;, score=0.885 total time=   0.3s\n",
            "[CV 2/5] END criterion=entropy, max_depth=10, min_samples_leaf=5, min_samples_split=10;, score=0.903 total time=   0.3s\n",
            "[CV 3/5] END criterion=entropy, max_depth=10, min_samples_leaf=5, min_samples_split=10;, score=0.898 total time=   0.3s\n",
            "[CV 4/5] END criterion=entropy, max_depth=10, min_samples_leaf=5, min_samples_split=10;, score=0.906 total time=   0.4s\n",
            "[CV 5/5] END criterion=entropy, max_depth=10, min_samples_leaf=5, min_samples_split=10;, score=0.898 total time=   0.4s\n",
            "[CV 1/5] END criterion=entropy, max_depth=15, min_samples_leaf=0.1, min_samples_split=0.1;, score=0.898 total time=   0.3s\n",
            "[CV 2/5] END criterion=entropy, max_depth=15, min_samples_leaf=0.1, min_samples_split=0.1;, score=0.884 total time=   0.3s\n",
            "[CV 3/5] END criterion=entropy, max_depth=15, min_samples_leaf=0.1, min_samples_split=0.1;, score=0.898 total time=   0.3s\n",
            "[CV 4/5] END criterion=entropy, max_depth=15, min_samples_leaf=0.1, min_samples_split=0.1;, score=0.899 total time=   0.3s\n",
            "[CV 5/5] END criterion=entropy, max_depth=15, min_samples_leaf=0.1, min_samples_split=0.1;, score=0.905 total time=   0.3s\n",
            "[CV 1/5] END criterion=entropy, max_depth=15, min_samples_leaf=0.1, min_samples_split=1.0;, score=0.487 total time=   0.1s\n",
            "[CV 2/5] END criterion=entropy, max_depth=15, min_samples_leaf=0.1, min_samples_split=1.0;, score=0.494 total time=   0.2s\n",
            "[CV 3/5] END criterion=entropy, max_depth=15, min_samples_leaf=0.1, min_samples_split=1.0;, score=0.490 total time=   0.2s\n",
            "[CV 4/5] END criterion=entropy, max_depth=15, min_samples_leaf=0.1, min_samples_split=1.0;, score=0.490 total time=   0.1s\n",
            "[CV 5/5] END criterion=entropy, max_depth=15, min_samples_leaf=0.1, min_samples_split=1.0;, score=0.499 total time=   0.1s\n",
            "[CV 1/5] END criterion=entropy, max_depth=15, min_samples_leaf=0.1, min_samples_split=10;, score=0.898 total time=   0.3s\n",
            "[CV 2/5] END criterion=entropy, max_depth=15, min_samples_leaf=0.1, min_samples_split=10;, score=0.884 total time=   0.3s\n",
            "[CV 3/5] END criterion=entropy, max_depth=15, min_samples_leaf=0.1, min_samples_split=10;, score=0.898 total time=   0.3s\n",
            "[CV 4/5] END criterion=entropy, max_depth=15, min_samples_leaf=0.1, min_samples_split=10;, score=0.899 total time=   0.3s\n",
            "[CV 5/5] END criterion=entropy, max_depth=15, min_samples_leaf=0.1, min_samples_split=10;, score=0.905 total time=   0.2s\n",
            "[CV 1/5] END criterion=entropy, max_depth=15, min_samples_leaf=0.5, min_samples_split=0.1;, score=0.739 total time=   0.1s\n",
            "[CV 2/5] END criterion=entropy, max_depth=15, min_samples_leaf=0.5, min_samples_split=0.1;, score=0.748 total time=   0.1s\n",
            "[CV 3/5] END criterion=entropy, max_depth=15, min_samples_leaf=0.5, min_samples_split=0.1;, score=0.743 total time=   0.1s\n",
            "[CV 4/5] END criterion=entropy, max_depth=15, min_samples_leaf=0.5, min_samples_split=0.1;, score=0.748 total time=   0.1s\n",
            "[CV 5/5] END criterion=entropy, max_depth=15, min_samples_leaf=0.5, min_samples_split=0.1;, score=0.750 total time=   0.1s\n",
            "[CV 1/5] END criterion=entropy, max_depth=15, min_samples_leaf=0.5, min_samples_split=1.0;, score=0.739 total time=   0.1s\n",
            "[CV 2/5] END criterion=entropy, max_depth=15, min_samples_leaf=0.5, min_samples_split=1.0;, score=0.748 total time=   0.1s\n",
            "[CV 3/5] END criterion=entropy, max_depth=15, min_samples_leaf=0.5, min_samples_split=1.0;, score=0.743 total time=   0.1s\n",
            "[CV 4/5] END criterion=entropy, max_depth=15, min_samples_leaf=0.5, min_samples_split=1.0;, score=0.748 total time=   0.1s\n",
            "[CV 5/5] END criterion=entropy, max_depth=15, min_samples_leaf=0.5, min_samples_split=1.0;, score=0.750 total time=   0.1s\n",
            "[CV 1/5] END criterion=entropy, max_depth=15, min_samples_leaf=0.5, min_samples_split=10;, score=0.739 total time=   0.1s\n",
            "[CV 2/5] END criterion=entropy, max_depth=15, min_samples_leaf=0.5, min_samples_split=10;, score=0.748 total time=   0.1s\n",
            "[CV 3/5] END criterion=entropy, max_depth=15, min_samples_leaf=0.5, min_samples_split=10;, score=0.743 total time=   0.1s\n",
            "[CV 4/5] END criterion=entropy, max_depth=15, min_samples_leaf=0.5, min_samples_split=10;, score=0.748 total time=   0.1s\n",
            "[CV 5/5] END criterion=entropy, max_depth=15, min_samples_leaf=0.5, min_samples_split=10;, score=0.750 total time=   0.1s\n",
            "[CV 1/5] END criterion=entropy, max_depth=15, min_samples_leaf=5, min_samples_split=0.1;, score=0.919 total time=   0.3s\n",
            "[CV 2/5] END criterion=entropy, max_depth=15, min_samples_leaf=5, min_samples_split=0.1;, score=0.909 total time=   0.3s\n",
            "[CV 3/5] END criterion=entropy, max_depth=15, min_samples_leaf=5, min_samples_split=0.1;, score=0.917 total time=   0.3s\n",
            "[CV 4/5] END criterion=entropy, max_depth=15, min_samples_leaf=5, min_samples_split=0.1;, score=0.918 total time=   0.3s\n",
            "[CV 5/5] END criterion=entropy, max_depth=15, min_samples_leaf=5, min_samples_split=0.1;, score=0.925 total time=   0.3s\n",
            "[CV 1/5] END criterion=entropy, max_depth=15, min_samples_leaf=5, min_samples_split=1.0;, score=0.487 total time=   0.1s\n",
            "[CV 2/5] END criterion=entropy, max_depth=15, min_samples_leaf=5, min_samples_split=1.0;, score=0.494 total time=   0.1s\n",
            "[CV 3/5] END criterion=entropy, max_depth=15, min_samples_leaf=5, min_samples_split=1.0;, score=0.490 total time=   0.1s\n",
            "[CV 4/5] END criterion=entropy, max_depth=15, min_samples_leaf=5, min_samples_split=1.0;, score=0.490 total time=   0.1s\n",
            "[CV 5/5] END criterion=entropy, max_depth=15, min_samples_leaf=5, min_samples_split=1.0;, score=0.499 total time=   0.1s\n",
            "[CV 1/5] END criterion=entropy, max_depth=15, min_samples_leaf=5, min_samples_split=10;, score=0.930 total time=   0.4s\n",
            "[CV 2/5] END criterion=entropy, max_depth=15, min_samples_leaf=5, min_samples_split=10;, score=0.927 total time=   0.3s\n",
            "[CV 3/5] END criterion=entropy, max_depth=15, min_samples_leaf=5, min_samples_split=10;, score=0.920 total time=   0.3s\n",
            "[CV 4/5] END criterion=entropy, max_depth=15, min_samples_leaf=5, min_samples_split=10;, score=0.922 total time=   0.4s\n",
            "[CV 5/5] END criterion=entropy, max_depth=15, min_samples_leaf=5, min_samples_split=10;, score=0.947 total time=   0.3s\n",
            "[CV 1/5] END criterion=entropy, max_depth=None, min_samples_leaf=0.1, min_samples_split=0.1;, score=0.898 total time=   0.2s\n",
            "[CV 2/5] END criterion=entropy, max_depth=None, min_samples_leaf=0.1, min_samples_split=0.1;, score=0.884 total time=   0.2s\n",
            "[CV 3/5] END criterion=entropy, max_depth=None, min_samples_leaf=0.1, min_samples_split=0.1;, score=0.898 total time=   0.2s\n",
            "[CV 4/5] END criterion=entropy, max_depth=None, min_samples_leaf=0.1, min_samples_split=0.1;, score=0.899 total time=   0.2s\n",
            "[CV 5/5] END criterion=entropy, max_depth=None, min_samples_leaf=0.1, min_samples_split=0.1;, score=0.905 total time=   0.2s\n",
            "[CV 1/5] END criterion=entropy, max_depth=None, min_samples_leaf=0.1, min_samples_split=1.0;, score=0.487 total time=   0.1s\n",
            "[CV 2/5] END criterion=entropy, max_depth=None, min_samples_leaf=0.1, min_samples_split=1.0;, score=0.494 total time=   0.1s\n",
            "[CV 3/5] END criterion=entropy, max_depth=None, min_samples_leaf=0.1, min_samples_split=1.0;, score=0.490 total time=   0.1s\n",
            "[CV 4/5] END criterion=entropy, max_depth=None, min_samples_leaf=0.1, min_samples_split=1.0;, score=0.490 total time=   0.1s\n",
            "[CV 5/5] END criterion=entropy, max_depth=None, min_samples_leaf=0.1, min_samples_split=1.0;, score=0.499 total time=   0.1s\n",
            "[CV 1/5] END criterion=entropy, max_depth=None, min_samples_leaf=0.1, min_samples_split=10;, score=0.898 total time=   0.2s\n",
            "[CV 2/5] END criterion=entropy, max_depth=None, min_samples_leaf=0.1, min_samples_split=10;, score=0.884 total time=   0.2s\n",
            "[CV 3/5] END criterion=entropy, max_depth=None, min_samples_leaf=0.1, min_samples_split=10;, score=0.898 total time=   0.2s\n",
            "[CV 4/5] END criterion=entropy, max_depth=None, min_samples_leaf=0.1, min_samples_split=10;, score=0.899 total time=   0.2s\n",
            "[CV 5/5] END criterion=entropy, max_depth=None, min_samples_leaf=0.1, min_samples_split=10;, score=0.905 total time=   0.2s\n",
            "[CV 1/5] END criterion=entropy, max_depth=None, min_samples_leaf=0.5, min_samples_split=0.1;, score=0.739 total time=   0.1s\n",
            "[CV 2/5] END criterion=entropy, max_depth=None, min_samples_leaf=0.5, min_samples_split=0.1;, score=0.748 total time=   0.1s\n",
            "[CV 3/5] END criterion=entropy, max_depth=None, min_samples_leaf=0.5, min_samples_split=0.1;, score=0.743 total time=   0.1s\n",
            "[CV 4/5] END criterion=entropy, max_depth=None, min_samples_leaf=0.5, min_samples_split=0.1;, score=0.748 total time=   0.1s\n",
            "[CV 5/5] END criterion=entropy, max_depth=None, min_samples_leaf=0.5, min_samples_split=0.1;, score=0.750 total time=   0.1s\n",
            "[CV 1/5] END criterion=entropy, max_depth=None, min_samples_leaf=0.5, min_samples_split=1.0;, score=0.739 total time=   0.1s\n",
            "[CV 2/5] END criterion=entropy, max_depth=None, min_samples_leaf=0.5, min_samples_split=1.0;, score=0.748 total time=   0.1s\n",
            "[CV 3/5] END criterion=entropy, max_depth=None, min_samples_leaf=0.5, min_samples_split=1.0;, score=0.743 total time=   0.1s\n",
            "[CV 4/5] END criterion=entropy, max_depth=None, min_samples_leaf=0.5, min_samples_split=1.0;, score=0.748 total time=   0.1s\n",
            "[CV 5/5] END criterion=entropy, max_depth=None, min_samples_leaf=0.5, min_samples_split=1.0;, score=0.750 total time=   0.1s\n",
            "[CV 1/5] END criterion=entropy, max_depth=None, min_samples_leaf=0.5, min_samples_split=10;, score=0.739 total time=   0.1s\n",
            "[CV 2/5] END criterion=entropy, max_depth=None, min_samples_leaf=0.5, min_samples_split=10;, score=0.748 total time=   0.1s\n",
            "[CV 3/5] END criterion=entropy, max_depth=None, min_samples_leaf=0.5, min_samples_split=10;, score=0.743 total time=   0.1s\n",
            "[CV 4/5] END criterion=entropy, max_depth=None, min_samples_leaf=0.5, min_samples_split=10;, score=0.748 total time=   0.1s\n",
            "[CV 5/5] END criterion=entropy, max_depth=None, min_samples_leaf=0.5, min_samples_split=10;, score=0.750 total time=   0.1s\n",
            "[CV 1/5] END criterion=entropy, max_depth=None, min_samples_leaf=5, min_samples_split=0.1;, score=0.919 total time=   0.3s\n",
            "[CV 2/5] END criterion=entropy, max_depth=None, min_samples_leaf=5, min_samples_split=0.1;, score=0.909 total time=   0.3s\n",
            "[CV 3/5] END criterion=entropy, max_depth=None, min_samples_leaf=5, min_samples_split=0.1;, score=0.917 total time=   0.3s\n",
            "[CV 4/5] END criterion=entropy, max_depth=None, min_samples_leaf=5, min_samples_split=0.1;, score=0.918 total time=   0.3s\n",
            "[CV 5/5] END criterion=entropy, max_depth=None, min_samples_leaf=5, min_samples_split=0.1;, score=0.925 total time=   0.4s\n",
            "[CV 1/5] END criterion=entropy, max_depth=None, min_samples_leaf=5, min_samples_split=1.0;, score=0.487 total time=   0.1s\n",
            "[CV 2/5] END criterion=entropy, max_depth=None, min_samples_leaf=5, min_samples_split=1.0;, score=0.494 total time=   0.2s\n",
            "[CV 3/5] END criterion=entropy, max_depth=None, min_samples_leaf=5, min_samples_split=1.0;, score=0.490 total time=   0.1s\n",
            "[CV 4/5] END criterion=entropy, max_depth=None, min_samples_leaf=5, min_samples_split=1.0;, score=0.490 total time=   0.2s\n",
            "[CV 5/5] END criterion=entropy, max_depth=None, min_samples_leaf=5, min_samples_split=1.0;, score=0.499 total time=   0.1s\n",
            "[CV 1/5] END criterion=entropy, max_depth=None, min_samples_leaf=5, min_samples_split=10;, score=0.964 total time=   0.6s\n",
            "[CV 2/5] END criterion=entropy, max_depth=None, min_samples_leaf=5, min_samples_split=10;, score=0.964 total time=   0.6s\n",
            "[CV 3/5] END criterion=entropy, max_depth=None, min_samples_leaf=5, min_samples_split=10;, score=0.965 total time=   0.6s\n",
            "[CV 4/5] END criterion=entropy, max_depth=None, min_samples_leaf=5, min_samples_split=10;, score=0.964 total time=   0.6s\n",
            "[CV 5/5] END criterion=entropy, max_depth=None, min_samples_leaf=5, min_samples_split=10;, score=0.966 total time=   0.6s\n",
            "parameter terbaik: {'criterion': 'entropy', 'max_depth': 5, 'min_samples_leaf': 5, 'min_samples_split': 0.1}\n",
            "DecisionTreeClassifier(criterion='entropy', max_depth=5, min_samples_leaf=5,\n",
            "                       min_samples_split=0.1)\n"
          ]
        }
      ],
      "source": [
        "# isi jawaban parameter \n",
        "from sklearn.model_selection import GridSearchCV\n",
        "from sklearn.tree import DecisionTreeClassifier\n",
        "from sklearn.experimental import enable_halving_search_cv # noqa\n",
        "from sklearn.model_selection import HalvingGridSearchCV\n",
        "\n",
        "# defining parameter range \n",
        "param_grid = [\n",
        "    #{'weights':['uniform','distance'], 'n_neighbors':[3,5,7,9,11,13,15], 'metric':['euclidean','manhattan','chebyshev','minkowski','wminkowski','seuclidean']}\n",
        "    #{'C': [1, 10, 100, 1000], 'kernel': ['linear']},\n",
        "    #{'C': [1, 10, 100, 1000], 'gamma': [0.01, 0.001, 0.0001], 'kernel': ['rbf']},\n",
        "    #{'n_estimators': [50, 100, 150, 200], 'criterion':['gini', 'entropy'], 'max_depth':[5, 10, 15], 'min_samples_split':[0.1, 1.0, 10], 'min_samples_leaf':[0.1, 0.5, 5]}\n",
        "    {'criterion':['gini', 'entropy'], 'max_depth':[5, 10, 15, None], 'min_samples_split':[0.1, 1.0, 10], 'min_samples_leaf':[0.1, 0.5, 5]}\n",
        "    #{'n_estimators': [50, 100, 150, 200],'learning_rate': [0.1,0.2,0.3],}\n",
        " ]\n",
        "\n",
        "#tolong perhatikan parameter scoring dan cv \n",
        "classifier = GridSearchCV(DecisionTreeClassifier(), param_grid, scoring='recall', cv=5, refit = True, verbose = 3) \n",
        "  \n",
        "# fitting the model for grid search \n",
        "classifier.fit(X_train, y_train)\n",
        "\n",
        "# print best parameter after tuning \n",
        "print('parameter terbaik:',classifier.best_params_) \n",
        "  \n",
        "# print how our model looks after hyper-parameter tuning \n",
        "print(classifier.best_estimator_)"
      ]
    },
    {
      "cell_type": "code",
      "execution_count": null,
      "metadata": {
        "colab": {
          "base_uri": "https://localhost:8080/"
        },
        "id": "gZc1hM00LcSQ",
        "outputId": "fcccf6d4-278d-4ee1-bef3-7a3b51b25f75"
      },
      "outputs": [
        {
          "name": "stdout",
          "output_type": "stream",
          "text": [
            "              precision    recall  f1-score   support\n",
            "\n",
            "           0       0.97      0.79      0.87     18320\n",
            "           1       0.82      0.98      0.89     18280\n",
            "\n",
            "    accuracy                           0.88     36600\n",
            "   macro avg       0.90      0.88      0.88     36600\n",
            "weighted avg       0.90      0.88      0.88     36600\n",
            "\n"
          ]
        }
      ],
      "source": [
        "from sklearn.metrics import classification_report\n",
        "\n",
        "predictions = classifier.predict(X_test) \n",
        "\n",
        "# print classification report \n",
        "print(classification_report(y_test, predictions))"
      ]
    },
    {
      "cell_type": "code",
      "execution_count": null,
      "metadata": {
        "colab": {
          "base_uri": "https://localhost:8080/"
        },
        "id": "bKrWQNBNOvoo",
        "outputId": "fdb76abd-85e8-49ec-c8d7-2ff12de6fe0f"
      },
      "outputs": [
        {
          "name": "stdout",
          "output_type": "stream",
          "text": [
            "Model validation accuracy: 97.63%\n"
          ]
        }
      ],
      "source": [
        "print(\"Model validation accuracy: %.2f%%\" % (classifier.score(X_test, y_test) * 100))"
      ]
    },
    {
      "cell_type": "code",
      "execution_count": null,
      "metadata": {
        "colab": {
          "base_uri": "https://localhost:8080/",
          "height": 476
        },
        "id": "Y3-aDcLOLtmZ",
        "outputId": "98f4cb9e-05b9-4d5c-d71b-39425d5aecd8"
      },
      "outputs": [
        {
          "data": {
            "text/plain": [
              "<sklearn.metrics._plot.confusion_matrix.ConfusionMatrixDisplay at 0x7feb344838b0>"
            ]
          },
          "execution_count": 21,
          "metadata": {},
          "output_type": "execute_result"
        },
        {
          "data": {
            "image/png": "[encoded data removed]",
            "text/plain": [
              "<Figure size 640x480 with 2 Axes>"
            ]
          },
          "metadata": {},
          "output_type": "display_data"
        }
      ],
      "source": [
        "# plot confusion matrix\n",
        "from sklearn.metrics import confusion_matrix, ConfusionMatrixDisplay\n",
        "\n",
        "predictions = classifier.predict(X_test)\n",
        "cm = confusion_matrix(y_test, predictions, labels=classifier.classes_)\n",
        "disp = ConfusionMatrixDisplay(cm, display_labels=classifier.classes_)\n",
        "disp.plot()"
      ]
    },
    {
      "attachments": {},
      "cell_type": "markdown",
      "metadata": {
        "id": "OfySiuq1rMrN"
      },
      "source": [
        "# Grid Search untuk klasifikasi - Support Vector Machine"
      ]
    },
    {
      "cell_type": "code",
      "execution_count": 13,
      "metadata": {
        "colab": {
          "background_save": true,
          "base_uri": "https://localhost:8080/"
        },
        "id": "kRDcPugDthDh",
        "outputId": "aa8e63b2-2d22-4ce7-a8c8-e69962f82de2"
      },
      "outputs": [
        {
          "name": "stdout",
          "output_type": "stream",
          "text": [
            "Fitting 5 folds for each of 12 candidates, totalling 60 fits\n",
            "[CV 1/5] END .......C=1, gamma=0.01, kernel=rbf;, score=0.915 total time= 2.8min\n",
            "[CV 2/5] END .......C=1, gamma=0.01, kernel=rbf;, score=0.914 total time= 3.2min\n",
            "[CV 3/5] END .......C=1, gamma=0.01, kernel=rbf;, score=0.915 total time= 2.9min\n",
            "[CV 4/5] END .......C=1, gamma=0.01, kernel=rbf;, score=0.916 total time= 2.9min\n",
            "[CV 5/5] END .......C=1, gamma=0.01, kernel=rbf;, score=0.915 total time= 3.0min\n",
            "[CV 1/5] END ......C=1, gamma=0.001, kernel=rbf;, score=0.893 total time= 3.5min\n",
            "[CV 2/5] END ......C=1, gamma=0.001, kernel=rbf;, score=0.893 total time= 3.6min\n",
            "[CV 3/5] END ......C=1, gamma=0.001, kernel=rbf;, score=0.893 total time= 3.4min\n",
            "[CV 4/5] END ......C=1, gamma=0.001, kernel=rbf;, score=0.896 total time= 3.6min\n",
            "[CV 5/5] END ......C=1, gamma=0.001, kernel=rbf;, score=0.894 total time= 3.6min\n",
            "[CV 1/5] END .....C=1, gamma=0.0001, kernel=rbf;, score=0.890 total time= 5.2min\n",
            "[CV 2/5] END .....C=1, gamma=0.0001, kernel=rbf;, score=0.891 total time= 5.3min\n",
            "[CV 3/5] END .....C=1, gamma=0.0001, kernel=rbf;, score=0.890 total time= 4.5min\n",
            "[CV 4/5] END .....C=1, gamma=0.0001, kernel=rbf;, score=0.893 total time= 4.6min\n",
            "[CV 5/5] END .....C=1, gamma=0.0001, kernel=rbf;, score=0.892 total time= 4.3min\n",
            "[CV 1/5] END ......C=10, gamma=0.01, kernel=rbf;, score=0.926 total time= 2.6min\n",
            "[CV 2/5] END ......C=10, gamma=0.01, kernel=rbf;, score=0.926 total time= 2.5min\n",
            "[CV 3/5] END ......C=10, gamma=0.01, kernel=rbf;, score=0.926 total time= 2.7min\n",
            "[CV 4/5] END ......C=10, gamma=0.01, kernel=rbf;, score=0.927 total time= 2.6min\n",
            "[CV 5/5] END ......C=10, gamma=0.01, kernel=rbf;, score=0.927 total time= 2.4min\n",
            "[CV 1/5] END .....C=10, gamma=0.001, kernel=rbf;, score=0.902 total time= 3.1min\n",
            "[CV 2/5] END .....C=10, gamma=0.001, kernel=rbf;, score=0.902 total time= 3.1min\n",
            "[CV 3/5] END .....C=10, gamma=0.001, kernel=rbf;, score=0.901 total time= 3.1min\n",
            "[CV 4/5] END .....C=10, gamma=0.001, kernel=rbf;, score=0.905 total time= 3.2min\n",
            "[CV 5/5] END .....C=10, gamma=0.001, kernel=rbf;, score=0.902 total time= 3.1min\n",
            "[CV 1/5] END ....C=10, gamma=0.0001, kernel=rbf;, score=0.891 total time= 3.4min\n",
            "[CV 2/5] END ....C=10, gamma=0.0001, kernel=rbf;, score=0.891 total time= 3.4min\n",
            "[CV 3/5] END ....C=10, gamma=0.0001, kernel=rbf;, score=0.892 total time= 3.4min\n",
            "[CV 4/5] END ....C=10, gamma=0.0001, kernel=rbf;, score=0.894 total time= 3.4min\n",
            "[CV 5/5] END ....C=10, gamma=0.0001, kernel=rbf;, score=0.892 total time= 3.4min\n",
            "[CV 1/5] END .....C=100, gamma=0.01, kernel=rbf;, score=0.929 total time= 2.4min\n",
            "[CV 2/5] END .....C=100, gamma=0.01, kernel=rbf;, score=0.932 total time= 2.4min\n",
            "[CV 3/5] END .....C=100, gamma=0.01, kernel=rbf;, score=0.932 total time= 2.4min\n",
            "[CV 4/5] END .....C=100, gamma=0.01, kernel=rbf;, score=0.934 total time= 2.4min\n",
            "[CV 5/5] END .....C=100, gamma=0.01, kernel=rbf;, score=0.933 total time= 2.4min\n",
            "[CV 1/5] END ....C=100, gamma=0.001, kernel=rbf;, score=0.915 total time= 2.8min\n",
            "[CV 2/5] END ....C=100, gamma=0.001, kernel=rbf;, score=0.914 total time= 2.7min\n",
            "[CV 3/5] END ....C=100, gamma=0.001, kernel=rbf;, score=0.916 total time= 2.8min\n",
            "[CV 4/5] END ....C=100, gamma=0.001, kernel=rbf;, score=0.916 total time= 2.7min\n",
            "[CV 5/5] END ....C=100, gamma=0.001, kernel=rbf;, score=0.915 total time= 2.8min\n",
            "[CV 1/5] END ...C=100, gamma=0.0001, kernel=rbf;, score=0.893 total time= 3.2min\n",
            "[CV 2/5] END ...C=100, gamma=0.0001, kernel=rbf;, score=0.892 total time= 3.1min\n",
            "[CV 3/5] END ...C=100, gamma=0.0001, kernel=rbf;, score=0.893 total time= 3.1min\n",
            "[CV 4/5] END ...C=100, gamma=0.0001, kernel=rbf;, score=0.896 total time= 3.2min\n",
            "[CV 5/5] END ...C=100, gamma=0.0001, kernel=rbf;, score=0.893 total time= 3.1min\n",
            "[CV 1/5] END ....C=1000, gamma=0.01, kernel=rbf;, score=0.933 total time= 4.5min\n",
            "[CV 2/5] END ....C=1000, gamma=0.01, kernel=rbf;, score=0.936 total time= 4.4min\n",
            "[CV 3/5] END ....C=1000, gamma=0.01, kernel=rbf;, score=0.937 total time= 4.5min\n",
            "[CV 4/5] END ....C=1000, gamma=0.01, kernel=rbf;, score=0.938 total time= 4.5min\n",
            "[CV 5/5] END ....C=1000, gamma=0.01, kernel=rbf;, score=0.938 total time= 4.2min\n",
            "[CV 1/5] END ...C=1000, gamma=0.001, kernel=rbf;, score=0.924 total time= 2.7min\n",
            "[CV 2/5] END ...C=1000, gamma=0.001, kernel=rbf;, score=0.925 total time= 2.7min\n",
            "[CV 3/5] END ...C=1000, gamma=0.001, kernel=rbf;, score=0.925 total time= 2.7min\n",
            "[CV 4/5] END ...C=1000, gamma=0.001, kernel=rbf;, score=0.927 total time= 2.8min\n",
            "[CV 5/5] END ...C=1000, gamma=0.001, kernel=rbf;, score=0.927 total time= 2.7min\n",
            "[CV 1/5] END ..C=1000, gamma=0.0001, kernel=rbf;, score=0.902 total time= 2.9min\n",
            "[CV 2/5] END ..C=1000, gamma=0.0001, kernel=rbf;, score=0.901 total time= 3.0min\n",
            "[CV 3/5] END ..C=1000, gamma=0.0001, kernel=rbf;, score=0.901 total time= 2.9min\n",
            "[CV 4/5] END ..C=1000, gamma=0.0001, kernel=rbf;, score=0.905 total time= 3.0min\n",
            "[CV 5/5] END ..C=1000, gamma=0.0001, kernel=rbf;, score=0.902 total time= 3.0min\n",
            "parameter terbaik: {'C': 1000, 'gamma': 0.01, 'kernel': 'rbf'}\n",
            "SVC(C=1000, gamma=0.01)\n"
          ]
        }
      ],
      "source": [
        "# isi jawaban di sini\n",
        "from sklearn.model_selection import GridSearchCV\n",
        "from sklearn.svm import SVC\n",
        "\n",
        "from sklearn.experimental import enable_halving_search_cv # noqa\n",
        "from sklearn.model_selection import HalvingGridSearchCV\n",
        "\n",
        "# defining parameter range \n",
        "param_grid = [\n",
        "    #{'weights':['uniform','distance'], 'n_neighbors':[3,5,7,9,11,13,15], 'metric':['euclidean','manhattan','chebyshev','minkowski','wminkowski','seuclidean']}\n",
        "    #{'C': [1, 10, 100, 1000], 'kernel': ['linear']},\n",
        "    {'C': [1, 10, 100, 1000], 'gamma': [0.01, 0.001, 0.0001], 'kernel': ['rbf']},\n",
        "    #{'n_estimators': [50, 100, 150, 200], 'criterion':['gini', 'entropy'], 'max_depth':[5, 10, 15], 'min_samples_split':[0.1, 1.0, 10], 'min_samples_leaf':[0.1, 0.5, 5]}\n",
        "    #{'criterion':['gini', 'entropy'], 'max_depth':[5, 10, 15, None], 'min_samples_split':[0.1, 1.0, 10], 'min_samples_leaf':[0.1, 0.5, 5]}\n",
        "    #{'n_estimators': [50, 100, 150, 200],'learning_rate': [0.1,0.2,0.3],}\n",
        "    ]\n",
        "\n",
        "#tolong perhatikan parameter scoring dan cv \n",
        "classifier_svm = GridSearchCV(SVC(), param_grid, scoring='accuracy', cv=5, refit = True, verbose = 3) \n",
        "\n",
        "# fitting the model for grid search \n",
        "classifier_svm.fit(X_train, y_train)\n",
        "\n",
        "# print best parameter after tuning \n",
        "print('parameter terbaik:',classifier_svm.best_params_) \n",
        "\n",
        "# print how our model looks after hyper-parameter tuning \n",
        "print(classifier_svm.best_estimator_)"
      ]
    },
    {
      "cell_type": "code",
      "execution_count": 14,
      "metadata": {
        "id": "yZK7Qjextyq0"
      },
      "outputs": [
        {
          "name": "stdout",
          "output_type": "stream",
          "text": [
            "              precision    recall  f1-score   support\n",
            "\n",
            "           0       0.91      0.97      0.94     18298\n",
            "           1       0.96      0.91      0.94     18302\n",
            "\n",
            "    accuracy                           0.94     36600\n",
            "   macro avg       0.94      0.94      0.94     36600\n",
            "weighted avg       0.94      0.94      0.94     36600\n",
            "\n"
          ]
        }
      ],
      "source": [
        "from sklearn.metrics import classification_report\n",
        "\n",
        "predictions = classifier_svm.predict(X_test) \n",
        "\n",
        "# print classification report \n",
        "print(classification_report(y_test, predictions))"
      ]
    },
    {
      "cell_type": "code",
      "execution_count": 15,
      "metadata": {
        "id": "MgGHeCwmuWfQ"
      },
      "outputs": [
        {
          "data": {
            "text/plain": [
              "<sklearn.metrics._plot.confusion_matrix.ConfusionMatrixDisplay at 0x1b5b05774f0>"
            ]
          },
          "execution_count": 15,
          "metadata": {},
          "output_type": "execute_result"
        },
        {
          "data": {
            "image/png": "[encoded data removed]",
            "text/plain": [
              "<Figure size 640x480 with 2 Axes>"
            ]
          },
          "metadata": {},
          "output_type": "display_data"
        }
      ],
      "source": [
        "from sklearn.metrics import confusion_matrix, ConfusionMatrixDisplay\n",
        "cm = confusion_matrix(y_test, predictions, labels=classifier_svm.classes_)\n",
        "disp = ConfusionMatrixDisplay(cm, display_labels=classifier_svm.classes_)\n",
        "disp.plot()"
      ]
    },
    {
      "cell_type": "code",
      "execution_count": 17,
      "metadata": {},
      "outputs": [
        {
          "name": "stdout",
          "output_type": "stream",
          "text": [
            "Model validation accuracy: 93.75%\n"
          ]
        }
      ],
      "source": [
        "print(\"Model validation accuracy: %.2f%%\" % (classifier_svm.score(X_test, y_test) * 100))"
      ]
    },
    {
      "cell_type": "code",
      "execution_count": 16,
      "metadata": {},
      "outputs": [
        {
          "data": {
            "text/plain": [
              "['../model/classifier_svm.sav']"
            ]
          },
          "execution_count": 16,
          "metadata": {},
          "output_type": "execute_result"
        }
      ],
      "source": [
        "joblib.dump(classifier_svm, '../model/classifier_svm.pkl')\n",
        "joblib.dump(classifier_svm, '../model/classifier_svm.sav')"
      ]
    },
    {
      "cell_type": "code",
      "execution_count": 13,
      "metadata": {},
      "outputs": [
        {
          "name": "stdout",
          "output_type": "stream",
          "text": [
            "Fitting 5 folds for each of 10 candidates, totalling 50 fits\n",
            "[CV 1/5] END .......C=1000, gamma=1, kernel=rbf;, score=0.956 total time=29.0min\n",
            "[CV 2/5] END .......C=1000, gamma=1, kernel=rbf;, score=0.955 total time=27.0min\n",
            "[CV 3/5] END .......C=1000, gamma=1, kernel=rbf;, score=0.954 total time=28.1min\n",
            "[CV 4/5] END .......C=1000, gamma=1, kernel=rbf;, score=0.956 total time=27.3min\n",
            "[CV 5/5] END .......C=1000, gamma=1, kernel=rbf;, score=0.954 total time=30.3min\n",
            "[CV 1/5] END ...C=1000, gamma=1, kernel=linear;, score=0.894 total time=211.8min\n"
          ]
        }
      ],
      "source": [
        "# isi jawaban di sini\n",
        "from sklearn.model_selection import GridSearchCV\n",
        "from sklearn.svm import SVC\n",
        "\n",
        "from sklearn.experimental import enable_halving_search_cv # noqa\n",
        "from sklearn.model_selection import HalvingGridSearchCV\n",
        "\n",
        "# defining parameter range\n",
        "param_grid = [\n",
        "    #{'weights':['uniform','distance'], 'n_neighbors':[3,5,7,9,11,13,15], 'metric':['euclidean','manhattan','chebyshev','minkowski','wminkowski','seuclidean']}\n",
        "    #{'C': [1, 10, 100, 1000], 'kernel': ['linear']},\n",
        "    {'C': [1000], 'gamma': [1, 0.1, 0.01, 0.001, 0.0001], 'kernel': ['rbf', 'linear']},\n",
        "    #{'n_estimators': [50, 100, 150, 200], 'criterion':['gini', 'entropy'], 'max_depth':[5, 10, 15], 'min_samples_split':[0.1, 1.0, 10], 'min_samples_leaf':[0.1, 0.5, 5]}\n",
        "    #{'criterion':['gini', 'entropy'], 'max_depth':[5, 10, 15, None], 'min_samples_split':[0.1, 1.0, 10], 'min_samples_leaf':[0.1, 0.5, 5]}\n",
        "    #{'n_estimators': [50, 100, 150, 200],'learning_rate': [0.1,0.2,0.3],}\n",
        "    ]\n",
        "\n",
        "#tolong perhatikan parameter scoring dan cv\n",
        "classifier_svm = GridSearchCV(SVC(), param_grid, scoring='accuracy', cv=5, refit = True, verbose = 3)\n",
        "\n",
        "# fitting the model for grid search\n",
        "classifier_svm.fit(X_train, y_train)\n",
        "\n",
        "# print best parameter after tuning\n",
        "print('parameter terbaik:',classifier_svm.best_params_)\n",
        "\n",
        "# print how our model looks after hyper-parameter tuning\n",
        "print(classifier.best_estimator_)"
      ]
    },
    {
      "attachments": {},
      "cell_type": "markdown",
      "metadata": {
        "id": "e_ok42RPPtxj"
      },
      "source": [
        "# KNN"
      ]
    },
    {
      "cell_type": "code",
      "execution_count": 20,
      "metadata": {
        "id": "HMD9c-SHPvwt"
      },
      "outputs": [],
      "source": [
        "classifier_knn = KNeighborsClassifier(metric= 'euclidean', n_neighbors= 3, weights= 'distance')"
      ]
    },
    {
      "cell_type": "code",
      "execution_count": 21,
      "metadata": {
        "id": "qP2prxfLPxve"
      },
      "outputs": [
        {
          "data": {
            "text/html": [
              "<style>#sk-container-id-1 {color: black;background-color: white;}#sk-container-id-1 pre{padding: 0;}#sk-container-id-1 div.sk-toggleable {background-color: white;}#sk-container-id-1 label.sk-toggleable__label {cursor: pointer;display: block;width: 100%;margin-bottom: 0;padding: 0.3em;box-sizing: border-box;text-align: center;}#sk-container-id-1 label.sk-toggleable__label-arrow:before {content: \"▸\";float: left;margin-right: 0.25em;color: #696969;}#sk-container-id-1 label.sk-toggleable__label-arrow:hover:before {color: black;}#sk-container-id-1 div.sk-estimator:hover label.sk-toggleable__label-arrow:before {color: black;}#sk-container-id-1 div.sk-toggleable__content {max-height: 0;max-width: 0;overflow: hidden;text-align: left;background-color: #f0f8ff;}#sk-container-id-1 div.sk-toggleable__content pre {margin: 0.2em;color: black;border-radius: 0.25em;background-color: #f0f8ff;}#sk-container-id-1 input.sk-toggleable__control:checked~div.sk-toggleable__content {max-height: 200px;max-width: 100%;overflow: auto;}#sk-container-id-1 input.sk-toggleable__control:checked~label.sk-toggleable__label-arrow:before {content: \"▾\";}#sk-container-id-1 div.sk-estimator input.sk-toggleable__control:checked~label.sk-toggleable__label {background-color: #d4ebff;}#sk-container-id-1 div.sk-label input.sk-toggleable__control:checked~label.sk-toggleable__label {background-color: #d4ebff;}#sk-container-id-1 input.sk-hidden--visually {border: 0;clip: rect(1px 1px 1px 1px);clip: rect(1px, 1px, 1px, 1px);height: 1px;margin: -1px;overflow: hidden;padding: 0;position: absolute;width: 1px;}#sk-container-id-1 div.sk-estimator {font-family: monospace;background-color: #f0f8ff;border: 1px dotted black;border-radius: 0.25em;box-sizing: border-box;margin-bottom: 0.5em;}#sk-container-id-1 div.sk-estimator:hover {background-color: #d4ebff;}#sk-container-id-1 div.sk-parallel-item::after {content: \"\";width: 100%;border-bottom: 1px solid gray;flex-grow: 1;}#sk-container-id-1 div.sk-label:hover label.sk-toggleable__label {background-color: #d4ebff;}#sk-container-id-1 div.sk-serial::before {content: \"\";position: absolute;border-left: 1px solid gray;box-sizing: border-box;top: 0;bottom: 0;left: 50%;z-index: 0;}#sk-container-id-1 div.sk-serial {display: flex;flex-direction: column;align-items: center;background-color: white;padding-right: 0.2em;padding-left: 0.2em;position: relative;}#sk-container-id-1 div.sk-item {position: relative;z-index: 1;}#sk-container-id-1 div.sk-parallel {display: flex;align-items: stretch;justify-content: center;background-color: white;position: relative;}#sk-container-id-1 div.sk-item::before, #sk-container-id-1 div.sk-parallel-item::before {content: \"\";position: absolute;border-left: 1px solid gray;box-sizing: border-box;top: 0;bottom: 0;left: 50%;z-index: -1;}#sk-container-id-1 div.sk-parallel-item {display: flex;flex-direction: column;z-index: 1;position: relative;background-color: white;}#sk-container-id-1 div.sk-parallel-item:first-child::after {align-self: flex-end;width: 50%;}#sk-container-id-1 div.sk-parallel-item:last-child::after {align-self: flex-start;width: 50%;}#sk-container-id-1 div.sk-parallel-item:only-child::after {width: 0;}#sk-container-id-1 div.sk-dashed-wrapped {border: 1px dashed gray;margin: 0 0.4em 0.5em 0.4em;box-sizing: border-box;padding-bottom: 0.4em;background-color: white;}#sk-container-id-1 div.sk-label label {font-family: monospace;font-weight: bold;display: inline-block;line-height: 1.2em;}#sk-container-id-1 div.sk-label-container {text-align: center;}#sk-container-id-1 div.sk-container {/* jupyter's `normalize.less` sets `[hidden] { display: none; }` but bootstrap.min.css set `[hidden] { display: none !important; }` so we also need the `!important` here to be able to override the default hidden behavior on the sphinx rendered scikit-learn.org. See: https://github.com/scikit-learn/scikit-learn/issues/21755 */display: inline-block !important;position: relative;}#sk-container-id-1 div.sk-text-repr-fallback {display: none;}</style><div id=\"sk-container-id-1\" class=\"sk-top-container\"><div class=\"sk-text-repr-fallback\"><pre>KNeighborsClassifier(metric=&#x27;euclidean&#x27;, n_neighbors=3, weights=&#x27;distance&#x27;)</pre><b>In a Jupyter environment, please rerun this cell to show the HTML representation or trust the notebook. <br />On GitHub, the HTML representation is unable to render, please try loading this page with nbviewer.org.</b></div><div class=\"sk-container\" hidden><div class=\"sk-item\"><div class=\"sk-estimator sk-toggleable\"><input class=\"sk-toggleable__control sk-hidden--visually\" id=\"sk-estimator-id-1\" type=\"checkbox\" checked><label for=\"sk-estimator-id-1\" class=\"sk-toggleable__label sk-toggleable__label-arrow\">KNeighborsClassifier</label><div class=\"sk-toggleable__content\"><pre>KNeighborsClassifier(metric=&#x27;euclidean&#x27;, n_neighbors=3, weights=&#x27;distance&#x27;)</pre></div></div></div></div></div>"
            ],
            "text/plain": [
              "KNeighborsClassifier(metric='euclidean', n_neighbors=3, weights='distance')"
            ]
          },
          "execution_count": 21,
          "metadata": {},
          "output_type": "execute_result"
        }
      ],
      "source": [
        "classifier_knn.fit(X_train, y_train)"
      ]
    },
    {
      "cell_type": "code",
      "execution_count": null,
      "metadata": {
        "id": "S0NQ7VqYUgey"
      },
      "outputs": [],
      "source": [
        "from sklearn.metrics import classification_report\n",
        "\n",
        "predictions = classifier_knn.predict(X_test) \n",
        "\n",
        "# print classification report \n",
        "print(classification_report(y_test, predictions))"
      ]
    },
    {
      "cell_type": "code",
      "execution_count": 22,
      "metadata": {
        "id": "uZydKgAeQAQH"
      },
      "outputs": [
        {
          "name": "stdout",
          "output_type": "stream",
          "text": [
            "Model validation accuracy: 96.68%\n"
          ]
        }
      ],
      "source": [
        "print(\"Model validation accuracy: %.2f%%\" % (classifier_knn.score(X_test, y_test) * 100))"
      ]
    },
    {
      "cell_type": "code",
      "execution_count": 23,
      "metadata": {
        "id": "QdFq9m7XWMH6"
      },
      "outputs": [
        {
          "data": {
            "text/plain": [
              "<sklearn.metrics._plot.confusion_matrix.ConfusionMatrixDisplay at 0x1f59d5d91e0>"
            ]
          },
          "execution_count": 23,
          "metadata": {},
          "output_type": "execute_result"
        },
        {
          "data": {
            "image/png": "[encoded data removed]",
            "text/plain": [
              "<Figure size 640x480 with 2 Axes>"
            ]
          },
          "metadata": {},
          "output_type": "display_data"
        }
      ],
      "source": [
        "# plot confusion matrix\n",
        "from sklearn.metrics import confusion_matrix, ConfusionMatrixDisplay\n",
        "\n",
        "predictions = classifier_knn.predict(X_test)\n",
        "cm = confusion_matrix(y_test, predictions, labels=classifier_knn.classes_)\n",
        "disp = ConfusionMatrixDisplay(cm, display_labels=classifier_knn.classes_)\n",
        "disp.plot()"
      ]
    },
    {
      "cell_type": "code",
      "execution_count": null,
      "metadata": {},
      "outputs": [],
      "source": [
        "# isi jawaban di sini\n",
        "from sklearn.model_selection import GridSearchCV\n",
        "from sklearn.svm import SVC\n",
        "\n",
        "from sklearn.experimental import enable_halving_search_cv # noqa\n",
        "from sklearn.model_selection import HalvingGridSearchCV\n",
        "\n",
        "# defining parameter range\n",
        "param_grid = [\n",
        "    #{'weights':['uniform','distance'], 'n_neighbors':[3,5,7,9,11,13,15], 'metric':['euclidean','manhattan','chebyshev','minkowski','wminkowski','seuclidean']}\n",
        "    #{'C': [1, 10, 100, 1000], 'kernel': ['linear']},\n",
        "    {'C': [1, 10, 100, 1000], 'gamma': [0.01, 0.001, 0.0001], 'kernel': ['rbf']},\n",
        "    #{'n_estimators': [50, 100, 150, 200], 'criterion':['gini', 'entropy'], 'max_depth':[5, 10, 15], 'min_samples_split':[0.1, 1.0, 10], 'min_samples_leaf':[0.1, 0.5, 5]}\n",
        "    #{'criterion':['gini', 'entropy'], 'max_depth':[5, 10, 15, None], 'min_samples_split':[0.1, 1.0, 10], 'min_samples_leaf':[0.1, 0.5, 5]}\n",
        "    #{'n_estimators': [50, 100, 150, 200],'learning_rate': [0.1,0.2,0.3],}\n",
        "    ]\n",
        "\n",
        "#tolong perhatikan parameter scoring dan cv\n",
        "classifier_svm = GridSearchCV(SVC(), param_grid, scoring='accuracy', cv=5, refit = True, verbose = 3)\n",
        "\n",
        "# fitting the model for grid search\n",
        "classifier_svm.fit(X_train, y_train)\n",
        "\n",
        "# print best parameter after tuning\n",
        "print('parameter terbaik:',classifier_svm.best_params_)\n",
        "\n",
        "# print how our model looks after hyper-parameter tuning\n",
        "print(classifier.best_estimator_)"
      ]
    },
    {
      "cell_type": "code",
      "execution_count": null,
      "metadata": {},
      "outputs": [],
      "source": [
        "# plot confusion matrix\n",
        "from sklearn.metrics import confusion_matrix, ConfusionMatrixDisplay\n",
        "\n",
        "predictions = classifier_svm.predict(X_test)\n",
        "cm = confusion_matrix(y_test, predictions, labels=classifier_svm.classes_)\n",
        "disp = ConfusionMatrixDisplay(cm, display_labels=classifier_svm.classes_)\n",
        "disp.plot()"
      ]
    }
  ],
  "metadata": {
    "colab": {
      "provenance": []
    },
    "kernelspec": {
      "display_name": "Python 3",
      "name": "python3"
    },
    "language_info": {
      "codemirror_mode": {
        "name": "ipython",
        "version": 3
      },
      "file_extension": ".py",
      "mimetype": "text/x-python",
      "name": "python",
      "nbconvert_exporter": "python",
      "pygments_lexer": "ipython3",
      "version": "3.10.4"
    }
  },
  "nbformat": 4,
  "nbformat_minor": 0
}
